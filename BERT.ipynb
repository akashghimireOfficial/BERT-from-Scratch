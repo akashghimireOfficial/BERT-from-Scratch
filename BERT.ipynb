{
 "cells": [
  {
   "cell_type": "markdown",
   "id": "c38fb8b9",
   "metadata": {},
   "source": [
    "## **BERT** \n",
    ">__[*original Turtorial Link*](https://www.tensorflow.org/text/tutorials/transformer)__\n",
    "\n",
    "### Turtorial Summary\n",
    "1. Downloading the Dataset\n",
    "2. Text tokenization & detokenization\n",
    "3. Setup of Input Pipeline \n",
    "4. Positional Encoding\n",
    "5. Buidling Transformer Model from Scracth\n",
    "6. Setting Hyperparameters \n",
    "7. Training and CheckPointing\n",
    "8. Attention Plot\n",
    "9. Exporting the saved model\n",
    "\n",
    "\n",
    "\n",
    "    \n",
    "\n"
   ]
  },
  {
   "cell_type": "code",
   "execution_count": 63,
   "id": "3ffeb6d6",
   "metadata": {},
   "outputs": [],
   "source": [
    "import logging\n",
    "import time\n",
    "import numpy as np\n",
    "import matplotlib.pyplot as plt\n",
    "import tensorflow as tf\n",
    "import tensorflow_datasets as tfds\n",
    "import tensorflow_text\n"
   ]
  },
  {
   "cell_type": "code",
   "execution_count": 64,
   "id": "32d7cb58",
   "metadata": {},
   "outputs": [],
   "source": [
    "logging.getLogger('tensorflow').setLevel(logging.ERROR)  # suppress warnings"
   ]
  },
  {
   "cell_type": "markdown",
   "id": "ad6b0ba5",
   "metadata": {},
   "source": [
    "#### Downloading the datasets"
   ]
  },
  {
   "cell_type": "code",
   "execution_count": 65,
   "id": "f9555412",
   "metadata": {},
   "outputs": [],
   "source": [
    "## Downloading the Dataset\n",
    "## useing Tensorflow datasets\n",
    "examples, metadata = tfds.load('ted_hrlr_translate/pt_to_en', with_info=True,\n",
    "                               as_supervised=True)\n",
    "train_examples, val_examples = examples['train'], examples['validation']"
   ]
  },
  {
   "cell_type": "code",
   "execution_count": 66,
   "id": "017a9efe",
   "metadata": {
    "scrolled": false
   },
   "outputs": [
    {
     "name": "stdout",
     "output_type": "stream",
     "text": [
      "e quando melhoramos a procura , tiramos a única vantagem da impressão , que é a serendipidade .\n",
      "95\n",
      "mas e se estes fatores fossem ativos ?\n",
      "38\n",
      "mas eles não tinham a curiosidade de me testar .\n",
      "48\n",
      "\n",
      "and when you improve searchability , you actually take away the one advantage of print , which is serendipity .\n",
      "111\n",
      "but what if it were active ?\n",
      "28\n",
      "but they did n't test for curiosity .\n",
      "37\n"
     ]
    },
    {
     "name": "stderr",
     "output_type": "stream",
     "text": [
      "2022-10-14 22:47:18.139060: W tensorflow/core/kernels/data/cache_dataset_ops.cc:856] The calling iterator did not fully read the dataset being cached. In order to avoid unexpected truncation of the dataset, the partially cached contents of the dataset  will be discarded. This can happen if you have an input pipeline similar to `dataset.cache().take(k).repeat()`. You should use `dataset.take(k).cache().repeat()` instead.\n"
     ]
    }
   ],
   "source": [
    "##if got time look more for what does the take() method refers to \n",
    "for pt_examples, en_examples in train_examples.batch(3).take(1):\n",
    "    for pt in pt_examples.numpy():\n",
    "\n",
    "        print(pt.decode('utf-8'))\n",
    "        print(len(pt.decode('utf-8')))\n",
    "\n",
    "    print()\n",
    "\n",
    "    for en in en_examples.numpy():\n",
    "        print(en.decode('utf-8'))\n",
    "        print(len(en.decode('utf-8')))\n"
   ]
  },
  {
   "cell_type": "markdown",
   "id": "f6dce6c3",
   "metadata": {},
   "source": [
    "### tokenization & detokenization"
   ]
  },
  {
   "cell_type": "code",
   "execution_count": 67,
   "id": "e94c266e",
   "metadata": {},
   "outputs": [],
   "source": [
    "### to train a NLP model first we need to tokenized them \n",
    "##Converting the text to sequence of token IDS \n",
    "## In simple words converting a sentence or words to list of unique tonek-IDS\n",
    "## for tekenization, in this turtorial we will be using frozen model \n"
   ]
  },
  {
   "cell_type": "code",
   "execution_count": 68,
   "id": "dcc11ef7",
   "metadata": {},
   "outputs": [
    {
     "data": {
      "text/plain": [
       "'./ted_hrlr_translate_pt_en_converter.zip'"
      ]
     },
     "execution_count": 68,
     "metadata": {},
     "output_type": "execute_result"
    }
   ],
   "source": [
    "model_name = 'ted_hrlr_translate_pt_en_converter'\n",
    "tf.keras.utils.get_file(\n",
    "    f'{model_name}.zip',\n",
    "    f'https://storage.googleapis.com/download.tensorflow.org/models/{model_name}.zip',\n",
    "    cache_dir='.', cache_subdir='', extract=True\n",
    ")"
   ]
  },
  {
   "cell_type": "code",
   "execution_count": 69,
   "id": "5c10c310",
   "metadata": {},
   "outputs": [],
   "source": [
    "##loading the model\n",
    "tokenizers=tf.saved_model.load(model_name)"
   ]
  },
  {
   "cell_type": "code",
   "execution_count": 70,
   "id": "22b40e47",
   "metadata": {},
   "outputs": [
    {
     "data": {
      "text/plain": [
       "<tf.Tensor: shape=(3,), dtype=string, numpy=\n",
       "array([b'and when you improve searchability , you actually take away the one advantage of print , which is serendipity .',\n",
       "       b'but what if it were active ?',\n",
       "       b\"but they did n't test for curiosity .\"], dtype=object)>"
      ]
     },
     "execution_count": 70,
     "metadata": {},
     "output_type": "execute_result"
    }
   ],
   "source": [
    "en_examples"
   ]
  },
  {
   "cell_type": "code",
   "execution_count": 71,
   "id": "56254ee7",
   "metadata": {},
   "outputs": [],
   "source": [
    "##Example of tokenization \n",
    "encoded_en_examples=tokenizers.en.tokenize(en_examples)\n"
   ]
  },
  {
   "cell_type": "code",
   "execution_count": 72,
   "id": "8a330803",
   "metadata": {
    "scrolled": false
   },
   "outputs": [
    {
     "name": "stdout",
     "output_type": "stream",
     "text": [
      "[2, 72, 117, 79, 1259, 1491, 2362, 13, 79, 150, 184, 311, 71, 103, 2308, 74, 2679, 13, 148, 80, 55, 4840, 1434, 2423, 540, 15, 3]\n",
      "[2, 87, 90, 107, 76, 129, 1852, 30, 3]\n",
      "[2, 87, 83, 149, 50, 9, 56, 664, 85, 2512, 15, 3]\n"
     ]
    }
   ],
   "source": [
    "## encoded tokens of above en_examples\n",
    "for row in encoded_en_examples.to_list():\n",
    "    print(row)"
   ]
  },
  {
   "cell_type": "markdown",
   "id": "43146852",
   "metadata": {},
   "source": [
    "*the shape of each input array is not same as the lenght of the sentence is not fixed*"
   ]
  },
  {
   "cell_type": "code",
   "execution_count": 73,
   "id": "f23c00f6",
   "metadata": {},
   "outputs": [
    {
     "name": "stdout",
     "output_type": "stream",
     "text": [
      "and when you improve searchability , you actually take away the one advantage of print , which is serendipity .\n",
      "but what if it were active ?\n",
      "but they did n ' t test for curiosity .\n"
     ]
    }
   ],
   "source": [
    "### Decoding the encoded english examples \n",
    "round_trip = tokenizers.en.detokenize(encoded_en_examples)\n",
    "for line in round_trip.numpy():\n",
    "    print(line.decode('utf-8'))"
   ]
  },
  {
   "cell_type": "code",
   "execution_count": 74,
   "id": "94cba068",
   "metadata": {},
   "outputs": [],
   "source": [
    "## How does the sequence of words are tokenized \n",
    "## using lookup() method\n"
   ]
  },
  {
   "cell_type": "code",
   "execution_count": 75,
   "id": "fa9492c9",
   "metadata": {
    "scrolled": true
   },
   "outputs": [
    {
     "name": "stdout",
     "output_type": "stream",
     "text": [
      "<tf.RaggedTensor [[b'[START]', b'and', b'when', b'you', b'improve', b'search', b'##ability',\n",
      "  b',', b'you', b'actually', b'take', b'away', b'the', b'one', b'advantage',\n",
      "  b'of', b'print', b',', b'which', b'is', b's', b'##ere', b'##nd', b'##ip',\n",
      "  b'##ity', b'.', b'[END]']                                                 ,\n",
      " [b'[START]', b'but', b'what', b'if', b'it', b'were', b'active', b'?',\n",
      "  b'[END]']                                                           ,\n",
      " [b'[START]', b'but', b'they', b'did', b'n', b\"'\", b't', b'test', b'for',\n",
      "  b'curiosity', b'.', b'[END]']                                          ]>\n"
     ]
    }
   ],
   "source": [
    "tokens = tokenizers.en.lookup(encoded_en_examples)\n",
    "print(tokens)"
   ]
  },
  {
   "cell_type": "code",
   "execution_count": 76,
   "id": "076a03cb",
   "metadata": {},
   "outputs": [
    {
     "name": "stdout",
     "output_type": "stream",
     "text": [
      "..................................................."
     ]
    }
   ],
   "source": [
    "lengths = []\n",
    "\n",
    "for pt_examples, en_examples in train_examples.batch(1024):\n",
    "    pt_tokens = tokenizers.en.tokenize(pt_examples)\n",
    "    lengths.append(pt_tokens.row_lengths())\n",
    "    #print(pt_tokens.row_lengths())\n",
    "    en_tokens = tokenizers.en.tokenize(en_examples)\n",
    "    lengths.append(en_tokens.row_lengths())\n",
    "    print('.', end='', flush=True)"
   ]
  },
  {
   "cell_type": "code",
   "execution_count": 77,
   "id": "9144f127",
   "metadata": {},
   "outputs": [
    {
     "data": {
      "text/plain": [
       "[<tf.Tensor: shape=(1024,), dtype=int64, numpy=array([45, 21, 23, ..., 21, 47, 35])>,\n",
       " <tf.Tensor: shape=(1024,), dtype=int64, numpy=array([27,  9, 12, ...,  9, 23, 28])>,\n",
       " <tf.Tensor: shape=(1024,), dtype=int64, numpy=array([ 32,  22,  34, ...,  39, 101,  36])>,\n",
       " <tf.Tensor: shape=(1024,), dtype=int64, numpy=array([17, 12, 20, ..., 30, 56, 13])>,\n",
       " <tf.Tensor: shape=(1024,), dtype=int64, numpy=array([48, 37, 27, ..., 92, 21, 49])>,\n",
       " <tf.Tensor: shape=(1024,), dtype=int64, numpy=array([29, 18, 15, ..., 53, 13, 29])>,\n",
       " <tf.Tensor: shape=(1024,), dtype=int64, numpy=array([72, 38, 35, ..., 20, 54, 13])>,\n",
       " <tf.Tensor: shape=(1024,), dtype=int64, numpy=array([38, 18, 16, ..., 11, 26, 11])>,\n",
       " <tf.Tensor: shape=(1024,), dtype=int64, numpy=array([ 15,  24,  51, ...,  27,  40, 117])>,\n",
       " <tf.Tensor: shape=(1024,), dtype=int64, numpy=array([10, 16, 24, ..., 20, 24, 71])>,\n",
       " <tf.Tensor: shape=(1024,), dtype=int64, numpy=array([28, 44, 26, ..., 95, 34, 32])>,\n",
       " <tf.Tensor: shape=(1024,), dtype=int64, numpy=array([17, 28, 14, ..., 39, 23, 22])>,\n",
       " <tf.Tensor: shape=(1024,), dtype=int64, numpy=array([35, 28, 43, ..., 71, 20, 18])>,\n",
       " <tf.Tensor: shape=(1024,), dtype=int64, numpy=array([15, 15, 26, ..., 34,  7, 10])>,\n",
       " <tf.Tensor: shape=(1024,), dtype=int64, numpy=array([ 32,  60,  25, ...,  37, 101,  31])>,\n",
       " <tf.Tensor: shape=(1024,), dtype=int64, numpy=array([18, 29, 15, ..., 22, 42, 21])>,\n",
       " <tf.Tensor: shape=(1024,), dtype=int64, numpy=array([16, 64, 26, ..., 38, 65, 41])>,\n",
       " <tf.Tensor: shape=(1024,), dtype=int64, numpy=array([11, 28, 12, ..., 15, 25, 24])>,\n",
       " <tf.Tensor: shape=(1024,), dtype=int64, numpy=array([21, 74, 30, ..., 32, 84, 71])>,\n",
       " <tf.Tensor: shape=(1024,), dtype=int64, numpy=array([12, 40, 10, ..., 20, 30, 34])>,\n",
       " <tf.Tensor: shape=(1024,), dtype=int64, numpy=array([56, 54, 38, ..., 34, 22, 23])>,\n",
       " <tf.Tensor: shape=(1024,), dtype=int64, numpy=array([45, 22, 21, ..., 14, 10, 16])>,\n",
       " <tf.Tensor: shape=(1024,), dtype=int64, numpy=array([ 30,  25,  56, ..., 114,  34,  75])>,\n",
       " <tf.Tensor: shape=(1024,), dtype=int64, numpy=array([16, 14, 30, ..., 47, 17, 34])>,\n",
       " <tf.Tensor: shape=(1024,), dtype=int64, numpy=array([26, 24, 28, ..., 17, 29, 30])>,\n",
       " <tf.Tensor: shape=(1024,), dtype=int64, numpy=array([14, 10, 13, ..., 10, 13, 13])>,\n",
       " <tf.Tensor: shape=(1024,), dtype=int64, numpy=array([19, 25, 65, ..., 39, 56, 75])>,\n",
       " <tf.Tensor: shape=(1024,), dtype=int64, numpy=array([10, 14, 33, ..., 15, 26, 39])>,\n",
       " <tf.Tensor: shape=(1024,), dtype=int64, numpy=array([48, 25, 23, ..., 65, 15,  8])>,\n",
       " <tf.Tensor: shape=(1024,), dtype=int64, numpy=array([24,  9, 10, ..., 37, 10,  5])>,\n",
       " <tf.Tensor: shape=(1024,), dtype=int64, numpy=array([50, 35, 56, ..., 33, 23, 58])>,\n",
       " <tf.Tensor: shape=(1024,), dtype=int64, numpy=array([30, 19, 20, ..., 15, 11, 23])>,\n",
       " <tf.Tensor: shape=(1024,), dtype=int64, numpy=array([15, 52, 11, ..., 43, 25, 37])>,\n",
       " <tf.Tensor: shape=(1024,), dtype=int64, numpy=array([10, 34, 10, ..., 25, 11, 21])>,\n",
       " <tf.Tensor: shape=(1024,), dtype=int64, numpy=array([52, 83, 31, ..., 33, 98, 31])>,\n",
       " <tf.Tensor: shape=(1024,), dtype=int64, numpy=array([30, 38, 19, ..., 15, 34, 16])>,\n",
       " <tf.Tensor: shape=(1024,), dtype=int64, numpy=array([ 30,  14,  24, ..., 103,  17,  55])>,\n",
       " <tf.Tensor: shape=(1024,), dtype=int64, numpy=array([17,  8, 34, ..., 51,  9, 37])>,\n",
       " <tf.Tensor: shape=(1024,), dtype=int64, numpy=array([36,  9,  8, ..., 55, 31, 37])>,\n",
       " <tf.Tensor: shape=(1024,), dtype=int64, numpy=array([19, 10,  5, ..., 28, 13, 17])>,\n",
       " <tf.Tensor: shape=(1024,), dtype=int64, numpy=array([ 39,  34,  19, ...,  43, 115,  26])>,\n",
       " <tf.Tensor: shape=(1024,), dtype=int64, numpy=array([19, 19, 10, ..., 29, 65,  9])>,\n",
       " <tf.Tensor: shape=(1024,), dtype=int64, numpy=array([51, 28, 57, ..., 48, 25, 41])>,\n",
       " <tf.Tensor: shape=(1024,), dtype=int64, numpy=array([35, 16, 27, ..., 24, 12, 18])>,\n",
       " <tf.Tensor: shape=(1024,), dtype=int64, numpy=array([52, 32, 80, ..., 14, 62, 44])>,\n",
       " <tf.Tensor: shape=(1024,), dtype=int64, numpy=array([27, 19, 42, ..., 11, 31, 20])>,\n",
       " <tf.Tensor: shape=(1024,), dtype=int64, numpy=array([34, 17, 49, ..., 12, 21, 25])>,\n",
       " <tf.Tensor: shape=(1024,), dtype=int64, numpy=array([16, 12, 30, ...,  8, 11, 11])>,\n",
       " <tf.Tensor: shape=(1024,), dtype=int64, numpy=array([ 68, 119,  19, ...,  11,  21,  35])>,\n",
       " <tf.Tensor: shape=(1024,), dtype=int64, numpy=array([31, 54, 11, ..., 12, 12, 25])>,\n",
       " <tf.Tensor: shape=(1024,), dtype=int64, numpy=array([38, 25, 14, ..., 54, 21, 40])>,\n",
       " <tf.Tensor: shape=(1024,), dtype=int64, numpy=array([25, 10,  6, ..., 24, 10, 27])>,\n",
       " <tf.Tensor: shape=(1024,), dtype=int64, numpy=array([ 57,  41,  14, ...,  26,  92, 198])>,\n",
       " <tf.Tensor: shape=(1024,), dtype=int64, numpy=array([ 36,  20,  12, ...,  12,  40, 103])>,\n",
       " <tf.Tensor: shape=(1024,), dtype=int64, numpy=array([25, 30, 40, ..., 35, 36, 30])>,\n",
       " <tf.Tensor: shape=(1024,), dtype=int64, numpy=array([10, 22, 21, ..., 22, 17, 13])>,\n",
       " <tf.Tensor: shape=(1024,), dtype=int64, numpy=array([63, 26, 23, ..., 98, 32, 42])>,\n",
       " <tf.Tensor: shape=(1024,), dtype=int64, numpy=array([35, 16, 12, ..., 52, 14, 23])>,\n",
       " <tf.Tensor: shape=(1024,), dtype=int64, numpy=array([15, 65, 23, ..., 63, 47, 21])>,\n",
       " <tf.Tensor: shape=(1024,), dtype=int64, numpy=array([ 9, 34, 15, ..., 40, 24, 15])>,\n",
       " <tf.Tensor: shape=(1024,), dtype=int64, numpy=array([12, 21, 37, ..., 28, 16, 25])>,\n",
       " <tf.Tensor: shape=(1024,), dtype=int64, numpy=array([10,  8, 16, ..., 11,  9, 12])>,\n",
       " <tf.Tensor: shape=(1024,), dtype=int64, numpy=array([99, 82, 41, ..., 33, 59, 15])>,\n",
       " <tf.Tensor: shape=(1024,), dtype=int64, numpy=array([41, 46, 22, ..., 13, 25,  8])>,\n",
       " <tf.Tensor: shape=(1024,), dtype=int64, numpy=array([ 15,  25,  64, ..., 158,  25, 103])>,\n",
       " <tf.Tensor: shape=(1024,), dtype=int64, numpy=array([10, 14, 44, ..., 78, 13, 40])>,\n",
       " <tf.Tensor: shape=(1024,), dtype=int64, numpy=array([28, 13, 78, ..., 25, 39, 12])>,\n",
       " <tf.Tensor: shape=(1024,), dtype=int64, numpy=array([19,  9, 31, ..., 12, 22, 10])>,\n",
       " <tf.Tensor: shape=(1024,), dtype=int64, numpy=array([20,  9, 90, ..., 21, 66, 17])>,\n",
       " <tf.Tensor: shape=(1024,), dtype=int64, numpy=array([11,  5, 34, ..., 12, 27, 10])>,\n",
       " <tf.Tensor: shape=(1024,), dtype=int64, numpy=array([127,  28,  35, ...,  75,  43,  14])>,\n",
       " <tf.Tensor: shape=(1024,), dtype=int64, numpy=array([87, 16, 12, ..., 34, 18, 13])>,\n",
       " <tf.Tensor: shape=(1024,), dtype=int64, numpy=array([  8,  27,  90, ...,  48,  10, 227])>,\n",
       " <tf.Tensor: shape=(1024,), dtype=int64, numpy=array([  5,  19,  38, ...,  23,   4, 130])>,\n",
       " <tf.Tensor: shape=(1024,), dtype=int64, numpy=array([65, 69, 37, ..., 13,  9, 11])>,\n",
       " <tf.Tensor: shape=(1024,), dtype=int64, numpy=array([32, 36, 19, ..., 13,  5, 10])>,\n",
       " <tf.Tensor: shape=(1024,), dtype=int64, numpy=array([27, 37, 21, ..., 49, 15, 23])>,\n",
       " <tf.Tensor: shape=(1024,), dtype=int64, numpy=array([20, 17, 11, ..., 28, 13, 15])>,\n",
       " <tf.Tensor: shape=(1024,), dtype=int64, numpy=array([11, 24, 75, ..., 40,  9, 15])>,\n",
       " <tf.Tensor: shape=(1024,), dtype=int64, numpy=array([ 8, 12, 53, ..., 21,  8, 10])>,\n",
       " <tf.Tensor: shape=(1024,), dtype=int64, numpy=array([21, 55, 24, ..., 36, 34, 36])>,\n",
       " <tf.Tensor: shape=(1024,), dtype=int64, numpy=array([15, 27, 10, ..., 24, 19, 23])>,\n",
       " <tf.Tensor: shape=(1024,), dtype=int64, numpy=array([46, 38, 28, ..., 56, 53, 40])>,\n",
       " <tf.Tensor: shape=(1024,), dtype=int64, numpy=array([27, 27, 11, ..., 26, 24, 21])>,\n",
       " <tf.Tensor: shape=(1024,), dtype=int64, numpy=array([ 42, 241,  50, ...,  64,  40,  54])>,\n",
       " <tf.Tensor: shape=(1024,), dtype=int64, numpy=array([ 15, 117,  23, ...,  31,  24,  21])>,\n",
       " <tf.Tensor: shape=(1024,), dtype=int64, numpy=array([63, 29, 29, ..., 49, 24, 63])>,\n",
       " <tf.Tensor: shape=(1024,), dtype=int64, numpy=array([24,  8, 19, ..., 33, 13, 32])>,\n",
       " <tf.Tensor: shape=(1024,), dtype=int64, numpy=array([43, 27, 28, ..., 76, 51, 46])>,\n",
       " <tf.Tensor: shape=(1024,), dtype=int64, numpy=array([33, 13, 11, ..., 43, 24, 16])>,\n",
       " <tf.Tensor: shape=(1024,), dtype=int64, numpy=array([63, 28, 21, ..., 21, 46, 45])>,\n",
       " <tf.Tensor: shape=(1024,), dtype=int64, numpy=array([24, 16, 12, ..., 10, 23, 26])>,\n",
       " <tf.Tensor: shape=(1024,), dtype=int64, numpy=array([76, 26, 52, ..., 29, 53, 15])>,\n",
       " <tf.Tensor: shape=(1024,), dtype=int64, numpy=array([40, 19, 23, ..., 19, 20, 10])>,\n",
       " <tf.Tensor: shape=(1024,), dtype=int64, numpy=array([106,  15,  14, ...,  73,  25,  56])>,\n",
       " <tf.Tensor: shape=(1024,), dtype=int64, numpy=array([44,  9,  9, ..., 32, 18, 32])>,\n",
       " <tf.Tensor: shape=(1024,), dtype=int64, numpy=array([44, 30, 33, ..., 52, 42, 38])>,\n",
       " <tf.Tensor: shape=(1024,), dtype=int64, numpy=array([18, 13, 21, ..., 27, 16, 21])>,\n",
       " <tf.Tensor: shape=(1024,), dtype=int64, numpy=array([11, 31, 12, ..., 98, 19, 24])>,\n",
       " <tf.Tensor: shape=(1024,), dtype=int64, numpy=array([ 7, 19, 11, ..., 73,  9, 14])>,\n",
       " <tf.Tensor: shape=(585,), dtype=int64, numpy=\n",
       " array([ 25,  22,  11,  26,  34,  34,   8,  63,  15,  37,  71,  67,  18,\n",
       "         11,  53, 109,  84, 143,  20,  17,  30,  30,  19,  10,  46,  30,\n",
       "         24,  23,  22,  60, 153,  19,  69,  20,  18,  20,  40, 113,  54,\n",
       "          9,  20,  15,  43,  48,  55,  34,  55,  38,  56,  14,  24,  20,\n",
       "         45,  28,  32,  26,  18,  15,  40,  57,  32,  28,  39,  13,  30,\n",
       "         89,  18,  48,  57,  40, 128,  25,  36,  70,  94,  71,  85,  29,\n",
       "        148,  48,  39,  50,  33, 111,  19,  31,  19,  45,  34,  29, 100,\n",
       "         30,  28,  25,  66,  76,  36,  67,  18,  55,  50,  35,  85,  17,\n",
       "         51, 130,  19,  14,  33,  23,  84, 108,  34,  24,   9,  23,  18,\n",
       "         17,  32,  67,  21, 135,  24,  53,  57,  78,  43,  30,  36,  22,\n",
       "         54,  24,  34,  62,  65,  63,  10,  87, 151,  16,  53,  41,   9,\n",
       "         45, 138,  29,  67, 122,  31,  33,  27,  53,  17, 138,  54,  81,\n",
       "         33,  35,  81,  32,  46,  29,  25,  13,  55,  92,   9,  29,  48,\n",
       "         54,  25,  75,  91, 109,  56,  63,  54,   9,  65,  15,  39,  39,\n",
       "         23,  23,  78,  21,  60,  66,  65,  30,  22,  27,  51,  29,  31,\n",
       "         27,  42,  49,  31,  19,  13,  71,  25,  23,  81,  12,  88,  16,\n",
       "         99,  18,  31,  20, 106,  21,  11,  29,  71,  21,  47,  20,  19,\n",
       "         72,  14,  34,  58,  18,   9,  15, 248,  67,  50,  94,  22, 150,\n",
       "         49,  14,  37,  80,  47,  89,  29,  60,  30,  98,  24,  91,   9,\n",
       "         44,  26, 131,  43,  50,  10,  40,  19,  87,  58,  20,  17,  27,\n",
       "          8,  35,  15,  67,  33,  28,  11,  39,  27,  18,  39,  45,  37,\n",
       "         86,  27, 106,  36,  26,  20,  53,  31,  41,  24,  24,  21,  51,\n",
       "         18,  55,  10,  29, 178,  65,  33,  24,  99,  44,  91,  18,  24,\n",
       "         41,  28,  18,  37,  83,  23,  73,  21,  27,  35,  87,   7,  33,\n",
       "         79,  28,  29,  42,  75,  31,  28,  26,  17, 211,  19,  31,  94,\n",
       "         36,  26,  43,  24,  50,  40,  20,  42,  39, 169,   8,  53,  18,\n",
       "         37,  84,  26,  90,  78,  18,  53,  25,  28,  40,  16,  36,  24,\n",
       "         44,  32,  22,  59, 140,  57,  62,  29,  49,  48,  45,  20,  45,\n",
       "         47,  47,  57, 136,  29,  18,  62,  70,  14,  45,  38,  49,  74,\n",
       "         37,  23,  16,  34,  38,  19,  18,  16,  88,  32,  78,  49,  88,\n",
       "         26,  44,  16,  31,  30,  52, 137, 114,  33,  26,  22,  24, 172,\n",
       "         32,  28,  90,  15,  27,  91, 108,  52,   9,  11,  45,  24,  37,\n",
       "         99,  19,  24, 107,  48,  70,  22,  85, 111, 178,  30,  38, 118,\n",
       "         85,  10,  33,   8,  22,  29,  19,  28,  21, 177,  24,  55,  30,\n",
       "         17, 135,  27,  22,  31,  34,  20,  33,  34, 142,  23,  75,  45,\n",
       "         32,  21,  21,  15,  31,  32,  30,  10, 158, 148,   9,  45,  19,\n",
       "         55,  24,  47,  66,  16,  86,  55,  48,  53,  19,  21,  39,  22,\n",
       "         15,  20,  84,  29,  38,  77,  28,  79, 187,  57,  23,  61,  23,\n",
       "         74,  41,  55,  32,  79,  32,  30,  54,   7,  50,  16,  21,  25,\n",
       "         51,  31,  14,  16,  51,  35,  36,  16,  50,  56,  59,  47,  34,\n",
       "        140,  37,  38,  20,  56,  46,  65,  58,   8,  62,  10,  71,  17,\n",
       "         25,  28, 119,  48,  20, 104,  20,   7,  19, 140,  25,  61, 128,\n",
       "         94,  22,  49,  86,  45,  19,  80,  41,  32,  81,  92,  26,  29,\n",
       "         57,  18,  22,  16,  16,  28,  18,  83,  55,  15,  35,  18,  42,\n",
       "         25,  30,  53,  32,  69,  23,  27,  25,  45,  57, 102,  16,  46])>,\n",
       " <tf.Tensor: shape=(585,), dtype=int64, numpy=\n",
       " array([ 16,  12,  10,  17,  18,  15,   5,  27,   8,  18,  38,  29,  11,\n",
       "          6,  30,  54,  46,  75,  12,  10,  16,  13,  11,   5,  28,  13,\n",
       "         14,  14,  12,  32,  63,   7,  39,   8,  15,  18,  27,  54,  26,\n",
       "          5,   8,  10,  25,  21,  29,  16,  32,  17,  29,   8,  13,   9,\n",
       "         26,  13,  21,  17,  14,   7,  23,  31,  16,  16,  20,  14,  17,\n",
       "         51,  10,  27,  25,  15,  73,  16,  15,  34,  49,  33,  46,  19,\n",
       "         56,  26,  24,  21,  14,  41,  14,  19,   8,  22,  19,  14,  35,\n",
       "         15,  16,  17,  30,  41,  16,  36,  13,  28,  36,  16,  58,   8,\n",
       "         24,  64,  12,  11,  14,  10,  59,  51,  21,  15,   6,  13,  10,\n",
       "         10,  15,  29,  15,  86,  15,  27,  33,  43,  22,  18,  16,  10,\n",
       "         36,  12,  19,  48,  31,  27,   6,  46,  71,  11,  24,  24,   5,\n",
       "         22,  73,  19,  29,  58,  18,  17,  18,  30,  11,  59,  29,  42,\n",
       "         19,  19,  40,  15,  28,  21,   8,  13,  34,  48,   6,  18,  23,\n",
       "         27,  10,  34,  44,  53,  28,  32,  46,   5,  23,   9,  15,  25,\n",
       "         18,  12,  50,  14,  38,  29,  38,  15,  17,   9,  30,  16,  24,\n",
       "         13,  24,  26,  14,  10,  11,  40,  16,  17,  43,   8,  48,   6,\n",
       "         59,  13,  19,  15,  45,  10,   7,  21,  37,  11,  34,  16,  14,\n",
       "         41,   8,  13,  30,   9,   5,  11, 134,  30,  27,  42,  17,  85,\n",
       "         28,   7,  26,  38,  28,  41,  15,  32,  12,  59,  16,  46,   5,\n",
       "         22,  14,  65,  18,  25,   7,  17,  12,  54,  25,  12,  14,  15,\n",
       "          5,  18,   8,  27,  17,  18,   9,  14,  15,   9,  20,  35,  17,\n",
       "         45,  13,  37,  21,  14,  24,  28,  16,  22,  12,  19,   9,  33,\n",
       "         13,  29,   8,  19,  83,  28,  15,  18,  54,  25,  41,   8,  13,\n",
       "         29,  16,  15,  17,  61,  13,  28,   9,  15,  18,  35,   6,  16,\n",
       "         43,  16,  20,  24,  43,  16,  19,  16,   9, 123,  11,  17,  43,\n",
       "         17,  33,  22,  17,  29,  11,  13,  27,  22,  90,   5,  31,   7,\n",
       "         20,  47,  10,  62,  34,   9,  28,  16,  17,  16,  21,  15,  15,\n",
       "         22,  17,  13,  29,  60,  23,  28,  12,  29,  19,  22,  15,  25,\n",
       "         26,  30,  29,  58,  22,  11,  35,  41,  12,  25,  21,  24,  33,\n",
       "         27,  12,  17,  16,  20,   9,  10,  10,  46,  18,  42,  21,  49,\n",
       "         13,  23,  12,  16,  20,  21,  64,  50,  19,  17,   9,  11,  94,\n",
       "         16,  16,  41,  12,  13,  51,  75,  19,   8,   8,  30,  15,  23,\n",
       "         45,  11,  16,  40,  22,  33,  10,  58,  53,  88,  15,  27,  59,\n",
       "         44,   6,  16,   5,  13,  11,  16,  20,  13,  73,  14,  21,  12,\n",
       "         12,  61,  15,  13,  15,  19,  12,  20,  13,  89,  10,  39,  26,\n",
       "         16,  11,   8,  10,  19,  20,  19,   5,  88,  65,   5,  20,   7,\n",
       "         32,  15,  19,  32,  11,  43,  27,  20,  32,  11,  14,  24,  13,\n",
       "         10,  12,  31,  15,  18,  42,  13,  50,  75,  37,  12,  31,  11,\n",
       "         29,  18,  33,  19,  32,  14,  13,  27,   7,  25,  11,  11,  11,\n",
       "         18,  16,   7,   9,  16,  14,  20,   8,  26,  26,  23,  18,  20,\n",
       "         72,  16,  15,  14,  18,  21,  36,  35,   4,  24,   7,  25,  11,\n",
       "         15,  19,  50,  33,  13,  55,  12,   4,  12,  75,  13,  28,  75,\n",
       "         47,  14,  19,  30,  21,  13,  29,  22,  18,  36,  39,  15,  16,\n",
       "         27,  10,  11,   8,  10,  21,  15,  34,  28,   7,  16,   9,  17,\n",
       "         11,  16,  41,  16,  31,  12,  15,  12,  26,  30,  49,  16,  18])>]"
      ]
     },
     "execution_count": 77,
     "metadata": {},
     "output_type": "execute_result"
    }
   ],
   "source": [
    "lengths"
   ]
  },
  {
   "cell_type": "code",
   "execution_count": 78,
   "id": "bd13a516",
   "metadata": {
    "scrolled": true
   },
   "outputs": [
    {
     "data": {
      "image/png": "[encoded data removed]",
      "text/plain": [
       "<Figure size 640x480 with 1 Axes>"
      ]
     },
     "metadata": {},
     "output_type": "display_data"
    }
   ],
   "source": [
    "all_lengths = np.concatenate(lengths)\n",
    "\n",
    "plt.hist(all_lengths, np.linspace(0, 500, 101))\n",
    "plt.ylim(plt.ylim())\n",
    "max_length = max(all_lengths)\n",
    "plt.plot([max_length, max_length], plt.ylim())\n",
    "plt.title(f'Max tokens per example: {max_length}');"
   ]
  },
  {
   "cell_type": "markdown",
   "id": "aa415c85",
   "metadata": {},
   "source": [
    "### Setting Input Pipeline"
   ]
  },
  {
   "cell_type": "markdown",
   "id": "aaaa32af",
   "metadata": {},
   "source": [
    "*Defining max_tokens*<br>\n",
    ">max_tokens: Here max num of words for each batch size \n"
   ]
  },
  {
   "cell_type": "code",
   "execution_count": 79,
   "id": "33a948f9",
   "metadata": {},
   "outputs": [],
   "source": [
    "MAX_TOKENS=128"
   ]
  },
  {
   "cell_type": "code",
   "execution_count": 80,
   "id": "76c13dde",
   "metadata": {},
   "outputs": [],
   "source": [
    "def tokenize_pairs(pt, en):\n",
    "    #here pt and en are pt_examples[i] and en_examples[i]\n",
    "    pt = tokenizers.pt.tokenize(pt)\n",
    "    # Convert from ragged to dense, padding with zeros.\n",
    "    pt = pt.to_tensor()\n",
    "\n",
    "    en = tokenizers.en.tokenize(en)\n",
    "    # Convert from ragged to dense, padding with zeros.\n",
    "    en = en.to_tensor()\n",
    "    return pt, en"
   ]
  },
  {
   "cell_type": "code",
   "execution_count": 81,
   "id": "02c4f892",
   "metadata": {},
   "outputs": [
    {
     "name": "stdout",
     "output_type": "stream",
     "text": [
      "pt\n",
      " [[  2  88 120 ...   0   0   0]\n",
      " [  2 175 153 ...   0   0   0]\n",
      " [  2 101 105 ...   0   0   0]\n",
      " ...\n",
      " [  2 103 770 ...   0   0   0]\n",
      " [  2 133  14 ...   0   0   0]\n",
      " [  2  91 301 ...   0   0   0]] \n",
      "\n",
      " en\n",
      "\n",
      " [[  2 110  13 ...   0   0   0]\n",
      " [  2  45 628 ...   0   0   0]\n",
      " [  2  87 140 ...   0   0   0]\n",
      " ...\n",
      " [  2  77  71 ...   0   0   0]\n",
      " [  2 110  13 ...   0   0   0]\n",
      " [  2  99 474 ...   0   0   0]]\n"
     ]
    }
   ],
   "source": [
    "## example\n",
    "##pt_example, and en_example are from row number \"Downloading Dataset 51 number\"\n",
    "pt,en=tokenize_pairs(pt_examples,en_examples)\n",
    "print('pt\\n {} \\n\\n en\\n\\n {}'.format(pt,en))"
   ]
  },
  {
   "cell_type": "code",
   "execution_count": 82,
   "id": "f7faad84",
   "metadata": {},
   "outputs": [
    {
     "name": "stdout",
     "output_type": "stream",
     "text": [
      "pt.shape: (585, 147)\n",
      "en.shape: (585, 134)\n"
     ]
    }
   ],
   "source": [
    "print('pt.shape: {}\\nen.shape: {}'.format(pt.shape,en.shape))\n"
   ]
  },
  {
   "cell_type": "markdown",
   "id": "04e5f81b",
   "metadata": {},
   "source": [
    "*bool function to filter out inputs with num_tokens*\n",
    "<br>tokenize pair are feeded to this function"
   ]
  },
  {
   "cell_type": "code",
   "execution_count": 83,
   "id": "88e6a432",
   "metadata": {},
   "outputs": [],
   "source": [
    "def filter_max_tokens(pt, en):\n",
    "    ##Here pt and en are tokenize value of pt_examples and en_examples\n",
    "    num_tokens = tf.maximum(tf.shape(pt)[1],tf.shape(en)[1])\n",
    "    return num_tokens < MAX_TOKENS"
   ]
  },
  {
   "cell_type": "code",
   "execution_count": 84,
   "id": "14661fdb",
   "metadata": {},
   "outputs": [
    {
     "name": "stdout",
     "output_type": "stream",
     "text": [
      "tf.Tensor(False, shape=(), dtype=bool)\n"
     ]
    }
   ],
   "source": [
    "### Example of above function \n",
    "bool_tensor=filter_max_tokens(pt,en)\n",
    "print(bool_tensor)\n",
    "## meaning num_tokens is not less than the max tokens "
   ]
  },
  {
   "cell_type": "markdown",
   "id": "88bbaf5e",
   "metadata": {},
   "source": [
    "**Example of tf.maximum**\n",
    "<code>\n",
    "    x = tf.constant([-5., -1., 0., 0.])\n",
    "    y = tf.constant([-3.])\n",
    "    c=tf.math.maximum(x, y)\n",
    "    print(c)\n",
    "</code>    \n",
    "    "
   ]
  },
  {
   "cell_type": "markdown",
   "id": "270ee05b",
   "metadata": {},
   "source": [
    "Here's a simple input pipeline that processes, shuffles and batches the data:"
   ]
  },
  {
   "cell_type": "code",
   "execution_count": 85,
   "id": "b5ad4110",
   "metadata": {},
   "outputs": [],
   "source": [
    "BUFFER_SIZE = 20000\n",
    "BATCH_SIZE = 64"
   ]
  },
  {
   "cell_type": "code",
   "execution_count": 86,
   "id": "ca7d77df",
   "metadata": {},
   "outputs": [],
   "source": [
    "def make_batches(ds):\n",
    "    return (\n",
    "      ds\n",
    "      .cache()\n",
    "      .shuffle(BUFFER_SIZE)\n",
    "      .batch(BATCH_SIZE)\n",
    "      .map(tokenize_pairs, num_parallel_calls=tf.data.AUTOTUNE)## Define above\n",
    "      .filter(filter_max_tokens) #Define above\n",
    "      .prefetch(tf.data.AUTOTUNE))\n",
    "\n",
    "\n",
    "train_batches = make_batches(train_examples)\n",
    "val_batches = make_batches(val_examples)"
   ]
  },
  {
   "cell_type": "markdown",
   "id": "7dbcc216",
   "metadata": {},
   "source": [
    "### Positional Encoding \n",
    ">Similar to Embedding done in tf.keras.layers.Embedding() <br>\n",
    ">>look into *An Attention is all we need* paper"
   ]
  },
  {
   "cell_type": "code",
   "execution_count": 87,
   "id": "dddd48bf",
   "metadata": {},
   "outputs": [],
   "source": [
    "def get_angles(pos, i, d_model):\n",
    "    angle_rates = 1 / np.power(10000, (2 * (i//2)) / np.float32(d_model))\n",
    "    return pos * angle_rates"
   ]
  },
  {
   "cell_type": "code",
   "execution_count": 88,
   "id": "60a5d4ca",
   "metadata": {},
   "outputs": [],
   "source": [
    "\n",
    "def positional_encoding(position, d_model):\n",
    "    angle_rads = get_angles(np.arange(position)[:, np.newaxis],\n",
    "                          np.arange(d_model)[np.newaxis, :],\n",
    "                          d_model)\n",
    "\n",
    "    # apply sin to even indices in the array; 2i\n",
    "    angle_rads[:, 0::2] = np.sin(angle_rads[:, 0::2])\n",
    "\n",
    "    # apply cos to odd indices in the array; 2i+1\n",
    "    angle_rads[:, 1::2] = np.cos(angle_rads[:, 1::2])\n",
    "\n",
    "    pos_encoding = angle_rads[np.newaxis, ...]\n",
    "\n",
    "    return tf.cast(pos_encoding, dtype=tf.float32)"
   ]
  },
  {
   "cell_type": "code",
   "execution_count": 89,
   "id": "1f36c66c",
   "metadata": {},
   "outputs": [
    {
     "data": {
      "text/plain": [
       "<tf.Tensor: shape=(1, 20, 36), dtype=float32, numpy=\n",
       "array([[[ 0.00000000e+00,  1.00000000e+00,  0.00000000e+00,\n",
       "          1.00000000e+00,  0.00000000e+00,  1.00000000e+00,\n",
       "          0.00000000e+00,  1.00000000e+00,  0.00000000e+00,\n",
       "          1.00000000e+00,  0.00000000e+00,  1.00000000e+00,\n",
       "          0.00000000e+00,  1.00000000e+00,  0.00000000e+00,\n",
       "          1.00000000e+00,  0.00000000e+00,  1.00000000e+00,\n",
       "          0.00000000e+00,  1.00000000e+00,  0.00000000e+00,\n",
       "          1.00000000e+00,  0.00000000e+00,  1.00000000e+00,\n",
       "          0.00000000e+00,  1.00000000e+00,  0.00000000e+00,\n",
       "          1.00000000e+00,  0.00000000e+00,  1.00000000e+00,\n",
       "          0.00000000e+00,  1.00000000e+00,  0.00000000e+00,\n",
       "          1.00000000e+00,  0.00000000e+00,  1.00000000e+00],\n",
       "        [ 8.41470957e-01,  5.40302277e-01,  5.64216733e-01,\n",
       "          8.25626731e-01,  3.51695180e-01,  9.36114550e-01,\n",
       "          2.13780671e-01,  9.76881683e-01,  1.28796190e-01,\n",
       "          9.91671085e-01,  7.73490295e-02,  9.97004092e-01,\n",
       "          4.63992245e-02,  9.98923004e-01,  2.78220028e-02,\n",
       "          9.99612868e-01,  1.66802313e-02,  9.99860883e-01,\n",
       "          9.99983307e-03,  9.99949992e-01,  5.99480653e-03,\n",
       "          9.99982059e-01,  3.59380594e-03,  9.99993563e-01,\n",
       "          2.15443294e-03,  9.99997675e-01,  1.29154930e-03,\n",
       "          9.99999166e-01,  7.74263579e-04,  9.99999702e-01,\n",
       "          4.64158860e-04,  9.99999881e-01,  2.78255931e-04,\n",
       "          9.99999940e-01,  1.66810059e-04,  1.00000000e+00],\n",
       "        [ 9.09297407e-01, -4.16146845e-01,  9.31664824e-01,\n",
       "          3.63318950e-01,  6.58454001e-01,  7.52620995e-01,\n",
       "          4.17676836e-01,  9.08595681e-01,  2.55446911e-01,\n",
       "          9.66823101e-01,  1.54234603e-01,  9.88034248e-01,\n",
       "          9.26984996e-02,  9.95694220e-01,  5.56224659e-02,\n",
       "          9.98451889e-01,  3.33558209e-02,  9.99443531e-01,\n",
       "          1.99986659e-02,  9.99800026e-01,  1.19893979e-02,\n",
       "          9.99928117e-01,  7.18756532e-03,  9.99974191e-01,\n",
       "          4.30885609e-03,  9.99990702e-01,  2.58309650e-03,\n",
       "          9.99996662e-01,  1.54852669e-03,  9.99998808e-01,\n",
       "          9.28317662e-04,  9.99999583e-01,  5.56511863e-04,\n",
       "          9.99999821e-01,  3.33620090e-04,  9.99999940e-01],\n",
       "        [ 1.41120002e-01, -9.89992499e-01,  9.74197984e-01,\n",
       "         -2.25695044e-01,  8.81081522e-01,  4.72964376e-01,\n",
       "          6.02261007e-01,  7.98299193e-01,  3.77842456e-01,\n",
       "          9.25869882e-01,  2.30196014e-01,  9.73144293e-01,\n",
       "          1.38798103e-01,  9.90320683e-01,  8.33798647e-02,\n",
       "          9.96517837e-01,  5.00221327e-02,  9.98748124e-01,\n",
       "          2.99955010e-02,  9.99550045e-01,  1.79835577e-02,\n",
       "          9.99838293e-01,  1.07812323e-02,  9.99941885e-01,\n",
       "          6.46325899e-03,  9.99979138e-01,  3.87463928e-03,\n",
       "          9.99992490e-01,  2.32278905e-03,  9.99997318e-01,\n",
       "          1.39247614e-03,  9.99999046e-01,  8.34767707e-04,\n",
       "          9.99999642e-01,  5.00430120e-04,  9.99999881e-01],\n",
       "        [-7.56802499e-01, -6.53643608e-01,  6.76982999e-01,\n",
       "         -7.35998690e-01,  9.91132557e-01,  1.32876709e-01,\n",
       "          7.58998692e-01,  6.51092112e-01,  4.93943959e-01,\n",
       "          8.69493723e-01,  3.04778129e-01,  9.52423394e-01,\n",
       "          1.84598729e-01,  9.82813954e-01,  1.11072712e-01,\n",
       "          9.93812263e-01,  6.66745231e-02,  9.97774780e-01,\n",
       "          3.99893336e-02,  9.99200106e-01,  2.39770729e-02,\n",
       "          9.99712527e-01,  1.43747600e-02,  9.99896705e-01,\n",
       "          8.61763209e-03,  9.99962866e-01,  5.16617578e-03,\n",
       "          9.99986649e-01,  3.09704989e-03,  9.99995232e-01,\n",
       "          1.85663451e-03,  9.99998271e-01,  1.11302349e-03,\n",
       "          9.99999404e-01,  6.67240180e-04,  9.99999762e-01],\n",
       "        [-9.58924294e-01,  2.83662200e-01,  1.43672481e-01,\n",
       "         -9.89625275e-01,  9.74545717e-01, -2.24188745e-01,\n",
       "          8.80642831e-01,  4.73780721e-01,  6.01817429e-01,\n",
       "          7.98633695e-01,  3.77534062e-01,  9.25995708e-01,\n",
       "          2.30001718e-01,  9.73190248e-01,  1.38679564e-01,\n",
       "          9.90337312e-01,  8.33083615e-02,  9.96523798e-01,\n",
       "          4.99791689e-02,  9.98750269e-01,  2.99697239e-02,\n",
       "          9.99550819e-01,  1.79681014e-02,  9.99838531e-01,\n",
       "          1.07719647e-02,  9.99942005e-01,  6.45770365e-03,\n",
       "          9.99979138e-01,  3.87130864e-03,  9.99992490e-01,\n",
       "          2.32079229e-03,  9.99997318e-01,  1.39127928e-03,\n",
       "          9.99999046e-01,  8.34050181e-04,  9.99999642e-01],\n",
       "        [-2.79415488e-01,  9.60170269e-01, -4.39743310e-01,\n",
       "         -8.98123503e-01,  8.33440363e-01, -5.52609384e-01,\n",
       "          9.61569011e-01,  2.74563283e-01,  6.99665904e-01,\n",
       "          7.14470148e-01,  4.48027879e-01,  8.94019604e-01,\n",
       "          2.74909258e-01,  9.61470187e-01,  1.66179046e-01,\n",
       "          9.86095607e-01,  9.99190211e-02,  9.94995594e-01,\n",
       "          5.99640049e-02,  9.98200536e-01,  3.59613001e-02,\n",
       "          9.99353170e-01,  2.15612110e-02,  9.99767542e-01,\n",
       "          1.29262479e-02,  9.99916434e-01,  7.74922036e-03,\n",
       "          9.99969959e-01,  4.64556552e-03,  9.99989212e-01,\n",
       "          2.78494973e-03,  9.99996126e-01,  1.66953483e-03,\n",
       "          9.99998629e-01,  1.00086012e-03,  9.99999523e-01],\n",
       "        [ 6.56986594e-01,  7.53902256e-01, -8.69800150e-01,\n",
       "         -4.93404210e-01,  5.85845590e-01, -8.10422659e-01,\n",
       "          9.98035491e-01,  6.26509860e-02,  7.85859525e-01,\n",
       "          6.18405104e-01,  5.15837193e-01,  8.56686652e-01,\n",
       "          3.19224656e-01,  9.47679043e-01,  1.93549871e-01,\n",
       "          9.81090426e-01,  1.16501875e-01,  9.93190467e-01,\n",
       "          6.99428469e-02,  9.97551024e-01,  4.19515818e-02,\n",
       "          9.99119639e-01,  2.51540430e-02,  9.99683559e-01,\n",
       "          1.50804715e-02,  9.99886274e-01,  9.04072449e-03,\n",
       "          9.99959111e-01,  5.41981915e-03,  9.99985337e-01,\n",
       "          3.24910646e-03,  9.99994695e-01,  1.94779038e-03,\n",
       "          9.99998093e-01,  1.16767013e-03,  9.99999344e-01],\n",
       "        [ 9.89358246e-01, -1.45500034e-01, -9.96517122e-01,\n",
       "          8.33880752e-02,  2.63396859e-01, -9.64687586e-01,\n",
       "          9.88356173e-01, -1.52158096e-01,  8.58962357e-01,\n",
       "          5.12038708e-01,  5.80555618e-01,  8.14220548e-01,\n",
       "          3.62852424e-01,  9.31846619e-01,  2.20770851e-01,\n",
       "          9.75325704e-01,  1.33052319e-01,  9.91109014e-01,\n",
       "          7.99146965e-02,  9.96801734e-01,  4.79403585e-02,\n",
       "          9.98850226e-01,  2.87465490e-02,  9.99586761e-01,\n",
       "          1.72346234e-02,  9.99851465e-01,  1.03322137e-02,\n",
       "          9.99946594e-01,  6.19406998e-03,  9.99980807e-01,\n",
       "          3.71326250e-03,  9.99993086e-01,  2.22604559e-03,\n",
       "          9.99997497e-01,  1.33448001e-03,  9.99999106e-01],\n",
       "        [ 4.12118495e-01, -9.11130250e-01, -7.75702238e-01,\n",
       "          6.31099045e-01, -9.27063376e-02, -9.95693505e-01,\n",
       "          9.32978570e-01, -3.59931886e-01,  9.17756796e-01,\n",
       "          3.97142917e-01,  6.41795516e-01,  7.66875803e-01,\n",
       "          4.05698568e-01,  9.14006948e-01,  2.47820899e-01,\n",
       "          9.68805850e-01,  1.49565727e-01,  9.88751769e-01,\n",
       "          8.98785517e-02,  9.95952725e-01,  5.39274104e-02,\n",
       "          9.98544872e-01,  3.23386826e-02,  9.99476969e-01,\n",
       "          1.93886980e-02,  9.99812007e-01,  1.16236852e-02,\n",
       "          9.99932468e-01,  6.96831662e-03,  9.99975741e-01,\n",
       "          4.17741761e-03,  9.99991298e-01,  2.50430079e-03,\n",
       "          9.99996841e-01,  1.50128989e-03,  9.99998868e-01],\n",
       "        [-5.44021130e-01, -8.39071512e-01, -2.84363836e-01,\n",
       "          9.58716452e-01, -4.36964363e-01, -8.99478793e-01,\n",
       "          8.34463179e-01, -5.51063657e-01,  9.61263359e-01,\n",
       "          2.75631577e-01,  6.99189842e-01,  7.14936078e-01,\n",
       "          4.47670847e-01,  8.94198418e-01,  2.74679095e-01,\n",
       "          9.61535931e-01,  1.66037530e-01,  9.86119449e-01,\n",
       "          9.98334140e-02,  9.95004177e-01,  5.99125251e-02,\n",
       "          9.98203635e-01,  3.59304026e-02,  9.99354303e-01,\n",
       "          2.15426795e-02,  9.99767959e-01,  1.29151372e-02,\n",
       "          9.99916613e-01,  7.74255954e-03,  9.99970019e-01,\n",
       "          4.64157201e-03,  9.99989212e-01,  2.78255576e-03,\n",
       "          9.99996126e-01,  1.66809978e-03,  9.99998629e-01],\n",
       "        [-9.99990225e-01,  4.42569796e-03,  3.06145489e-01,\n",
       "          9.51984763e-01, -7.25391090e-01, -6.88336968e-01,\n",
       "          6.97365046e-01, -7.16716111e-01,  9.88757372e-01,\n",
       "          1.49528801e-01,  7.52394736e-01,  6.58712506e-01,\n",
       "          4.88678783e-01,  8.72463763e-01,  3.01324606e-01,\n",
       "          9.53521609e-01,  1.82463139e-01,  9.83212709e-01,\n",
       "          1.09778300e-01,  9.93956089e-01,  6.58954829e-02,\n",
       "          9.97826517e-01,  3.95216532e-02,  9.99218702e-01,\n",
       "          2.36965641e-02,  9.99719203e-01,  1.42065687e-02,\n",
       "          9.99899089e-01,  8.51679780e-03,  9.99963760e-01,\n",
       "          5.10572549e-03,  9.99986947e-01,  3.06081050e-03,\n",
       "          9.99995291e-01,  1.83490955e-03,  9.99998331e-01],\n",
       "        [-5.36572933e-01,  8.43853951e-01,  7.89887607e-01,\n",
       "          6.13251626e-01, -9.21133935e-01, -3.89245719e-01,\n",
       "          5.28023124e-01, -8.49229991e-01,  9.99780834e-01,\n",
       "          2.09351983e-02,  8.01091373e-01,  5.98542035e-01,\n",
       "          5.28634131e-01,  8.48849773e-01,  3.27736855e-01,\n",
       "          9.44769025e-01,  1.98837966e-01,  9.80032384e-01,\n",
       "          1.19712204e-01,  9.92808640e-01,  7.18760788e-02,\n",
       "          9.97413576e-01,  4.31123972e-02,  9.99070227e-01,\n",
       "          2.58503370e-02,  9.99665797e-01,  1.54979751e-02,\n",
       "          9.99879897e-01,  9.29103047e-03,  9.99956846e-01,\n",
       "          5.56987757e-03,  9.99984503e-01,  3.33906501e-03,\n",
       "          9.99994397e-01,  2.00171932e-03,  9.99997973e-01],\n",
       "        [ 4.20167029e-01,  9.07446802e-01,  9.98159170e-01,\n",
       "          6.06491379e-02, -9.99182761e-01, -4.04202044e-02,\n",
       "          3.34267169e-01, -9.42478359e-01,  9.94150102e-01,\n",
       "         -1.08007133e-01,  8.44988048e-01,  5.34785211e-01,\n",
       "          5.67450762e-01,  8.23407352e-01,  3.53895366e-01,\n",
       "          9.35285032e-01,  2.15157464e-01,  9.76579368e-01,\n",
       "          1.29634142e-01,  9.91561890e-01,  7.78540894e-02,\n",
       "          9.96964753e-01,  4.67025824e-02,  9.98908818e-01,\n",
       "          2.80039888e-02,  9.99607801e-01,  1.67893562e-02,\n",
       "          9.99859035e-01,  1.00652575e-02,  9.99949336e-01,\n",
       "          6.03402872e-03,  9.99981821e-01,  3.61731928e-03,\n",
       "          9.99993443e-01,  2.16852897e-03,  9.99997675e-01],\n",
       "        [ 9.90607381e-01,  1.36737213e-01,  8.58326137e-01,\n",
       "         -5.13104558e-01, -9.49565172e-01,  3.13569844e-01,\n",
       "          1.25055820e-01, -9.92149711e-01,  9.71958995e-01,\n",
       "         -2.35150307e-01,  8.83821607e-01,  4.67824042e-01,\n",
       "          6.05045021e-01,  7.96191216e-01,  3.79779875e-01,\n",
       "          9.25076902e-01,  2.31417105e-01,  9.72854614e-01,\n",
       "          1.39543116e-01,  9.90216017e-01,  8.38292986e-02,\n",
       "          9.96480107e-01,  5.02921678e-02,  9.98734534e-01,\n",
       "          3.01575121e-02,  9.99545157e-01,  1.80807095e-02,\n",
       "          9.99836504e-01,  1.08394790e-02,  9.99941230e-01,\n",
       "          6.49817847e-03,  9.99978900e-01,  3.89557332e-03,\n",
       "          9.99992430e-01,  2.33533862e-03,  9.99997258e-01],\n",
       "        [ 6.50287867e-01, -7.59687901e-01,  4.19154823e-01,\n",
       "         -9.07914758e-01, -7.78620780e-01,  6.27494752e-01,\n",
       "         -8.99376869e-02, -9.95947421e-01,  9.33577180e-01,\n",
       "         -3.58376384e-01,  9.17359531e-01,  3.98059726e-01,\n",
       "          6.41336024e-01,  7.67260134e-01,  4.05370325e-01,\n",
       "          9.14152563e-01,  2.47612342e-01,  9.68859196e-01,\n",
       "          1.49438128e-01,  9.88771081e-01,  8.98014978e-02,\n",
       "          9.95959699e-01,  5.38811013e-02,  9.98547375e-01,\n",
       "          3.23108956e-02,  9.99477863e-01,  1.93720330e-02,\n",
       "          9.99812365e-01,  1.16136940e-02,  9.99932587e-01,\n",
       "          6.96232682e-03,  9.99975741e-01,  4.17382689e-03,\n",
       "          9.99991298e-01,  2.50214827e-03,  9.99996841e-01],\n",
       "        [-2.87903309e-01, -9.57659483e-01, -1.66195303e-01,\n",
       "         -9.86092865e-01, -5.08191347e-01,  8.61244202e-01,\n",
       "         -3.00772786e-01, -9.53695834e-01,  8.79643977e-01,\n",
       "         -4.75632668e-01,  9.45400715e-01,  3.25910300e-01,\n",
       "          6.76245570e-01,  7.36676276e-01,  4.30646986e-01,\n",
       "          9.02520478e-01,  2.63738692e-01,  9.64594185e-01,\n",
       "          1.59318209e-01,  9.87227261e-01,  9.57704708e-02,\n",
       "          9.95403469e-01,  5.74693382e-02,  9.98347282e-01,\n",
       "          3.44641283e-02,  9.99405921e-01,  2.06633247e-02,\n",
       "          9.99786496e-01,  1.23879025e-02,  9.99923289e-01,\n",
       "          7.42647378e-03,  9.99972403e-01,  4.45208047e-03,\n",
       "          9.99990106e-01,  2.66895769e-03,  9.99996424e-01],\n",
       "        [-9.61397469e-01, -2.75163352e-01, -6.93585396e-01,\n",
       "         -7.20374465e-01, -1.72829896e-01,  9.84951675e-01,\n",
       "         -4.97701138e-01, -8.67348611e-01,  8.11057806e-01,\n",
       "         -5.84965944e-01,  9.67777193e-01,  2.51808077e-01,\n",
       "          7.09698439e-01,  7.04505563e-01,  4.55590189e-01,\n",
       "          8.90189648e-01,  2.79791653e-01,  9.60060716e-01,\n",
       "          1.69182345e-01,  9.85584795e-01,  1.01736002e-01,\n",
       "          9.94811416e-01,  6.10568337e-02,  9.98134315e-01,\n",
       "          3.66172008e-02,  9.99329388e-01,  2.19545811e-02,\n",
       "          9.99758959e-01,  1.31621026e-02,  9.99913394e-01,\n",
       "          7.89061934e-03,  9.99968886e-01,  4.73033357e-03,\n",
       "          9.99988794e-01,  2.83576711e-03,  9.99996006e-01],\n",
       "        [-7.50987232e-01,  6.60316706e-01, -9.79089916e-01,\n",
       "         -2.03427911e-01,  1.84614182e-01,  9.82811093e-01,\n",
       "         -6.71617508e-01, -7.40898073e-01,  7.28961229e-01,\n",
       "         -6.84554994e-01,  9.84354913e-01,  1.76197037e-01,\n",
       "          7.41622627e-01,  6.70817316e-01,  4.80180681e-01,\n",
       "          8.77169609e-01,  2.95766771e-01,  9.55260158e-01,\n",
       "          1.79029569e-01,  9.83843684e-01,  1.07697874e-01,\n",
       "          9.94183660e-01,  6.46435395e-02,  9.97908413e-01,\n",
       "          3.87701057e-02,  9.99248147e-01,  2.32458003e-02,\n",
       "          9.99729753e-01,  1.39362952e-02,  9.99902904e-01,\n",
       "          8.35476257e-03,  9.99965072e-01,  5.00858575e-03,\n",
       "          9.99987483e-01,  3.00257653e-03,  9.99995470e-01],\n",
       "        [ 1.49877205e-01,  9.88704622e-01, -9.23140228e-01,\n",
       "          3.84463400e-01,  5.18469930e-01,  8.55095863e-01,\n",
       "         -8.14480484e-01, -5.80190897e-01,  6.34721696e-01,\n",
       "         -7.72740841e-01,  9.95034516e-01,  9.95302647e-02,\n",
       "          7.71949291e-01,  6.35684133e-01,  5.04399419e-01,\n",
       "          8.63470435e-01,  3.11659575e-01,  9.50193822e-01,\n",
       "          1.88858896e-01,  9.82004225e-01,  1.13655880e-01,\n",
       "          9.93520200e-01,  6.82294145e-02,  9.97669637e-01,\n",
       "          4.09228280e-02,  9.99162316e-01,  2.45369803e-02,\n",
       "          9.99698937e-01,  1.47104794e-02,  9.99891818e-01,\n",
       "          8.81890487e-03,  9.99961138e-01,  5.28683839e-03,\n",
       "          9.99986053e-01,  3.16938572e-03,  9.99994993e-01]]],\n",
       "      dtype=float32)>"
      ]
     },
     "execution_count": 89,
     "metadata": {},
     "output_type": "execute_result"
    }
   ],
   "source": [
    "positional_encoding(20,36)"
   ]
  },
  {
   "cell_type": "markdown",
   "id": "5c6412ce",
   "metadata": {},
   "source": [
    "### Masking\n",
    ">Mask all the pad tokens in the batch of sequence. It ensures that the model does not treat padding as the input. The mask indicates where pad value 0 is present: it outputs a 1 at those locations, and a 0 otherwise.\n",
    "\n",
    "*Note: We don't need masking skeleton based Posed based Action Recognition.*"
   ]
  },
  {
   "cell_type": "code",
   "execution_count": 90,
   "id": "3d4070f0",
   "metadata": {},
   "outputs": [],
   "source": [
    "def create_padding_mask(seq):\n",
    "    seq = tf.cast(tf.math.equal(seq, 0), tf.float32)\n",
    "\n",
    "    # add extra dimensions to add the padding\n",
    "    # to the attention logits.\n",
    "    return seq[:, tf.newaxis, tf.newaxis, :]  # (batch_size, 1, 1, seq_len)"
   ]
  },
  {
   "cell_type": "markdown",
   "id": "84b32943",
   "metadata": {},
   "source": [
    "*Similar function in array*\n",
    "<code>\n",
    "    def create_padding_mask(seq):\n",
    "        seq=np.where(seq!=0,0,1)\n",
    "        return seq\n",
    "</code>    "
   ]
  },
  {
   "cell_type": "markdown",
   "id": "bb2bd843",
   "metadata": {},
   "source": [
    "*Masking Example*"
   ]
  },
  {
   "cell_type": "code",
   "execution_count": 91,
   "id": "267dfd72",
   "metadata": {},
   "outputs": [
    {
     "data": {
      "text/plain": [
       "<tf.Tensor: shape=(3, 1, 1, 5), dtype=float32, numpy=\n",
       "array([[[[0., 0., 1., 1., 0.]]],\n",
       "\n",
       "\n",
       "       [[[0., 0., 0., 1., 1.]]],\n",
       "\n",
       "\n",
       "       [[[1., 1., 1., 0., 0.]]]], dtype=float32)>"
      ]
     },
     "execution_count": 91,
     "metadata": {},
     "output_type": "execute_result"
    }
   ],
   "source": [
    "\n",
    "x = tf.constant([[7, 6, 0, 0, 1], [1, 2, 3, 0, 0], [0, 0, 0, 4, 5]])\n",
    "create_padding_mask(x)"
   ]
  },
  {
   "cell_type": "markdown",
   "id": "8edd658d",
   "metadata": {},
   "source": [
    "### look ahead mask\n",
    ">The look-ahead mask is used to mask the future tokens in a sequence. In other words, the mask indicates which entries should not be used.<br>This means that to predict the third token, only the first and second token will be used. Similarly to predict the fourth token, only the first, second and the third tokens will be used and so on."
   ]
  },
  {
   "cell_type": "code",
   "execution_count": 92,
   "id": "b6065f9d",
   "metadata": {},
   "outputs": [],
   "source": [
    "def create_look_ahead_mask(size):\n",
    "    mask = 1 - tf.linalg.band_part(tf.ones((size, size)), -1, 0)\n",
    "    return mask  # (seq_len, seq_len)"
   ]
  },
  {
   "cell_type": "code",
   "execution_count": 93,
   "id": "ea1f6357",
   "metadata": {},
   "outputs": [
    {
     "data": {
      "text/plain": [
       "<tf.Tensor: shape=(3, 3), dtype=float32, numpy=\n",
       "array([[0., 1., 1.],\n",
       "       [0., 0., 1.],\n",
       "       [0., 0., 0.]], dtype=float32)>"
      ]
     },
     "execution_count": 93,
     "metadata": {},
     "output_type": "execute_result"
    }
   ],
   "source": [
    "x = tf.random.uniform((1, 3))\n",
    "\n",
    "temp = create_look_ahead_mask(x.shape[1]) \n",
    "#Value with 1 are masked \n",
    "temp"
   ]
  },
  {
   "cell_type": "code",
   "execution_count": 94,
   "id": "02a921ea",
   "metadata": {},
   "outputs": [
    {
     "data": {
      "text/plain": [
       "3"
      ]
     },
     "execution_count": 94,
     "metadata": {},
     "output_type": "execute_result"
    }
   ],
   "source": [
    "x.shape[1]"
   ]
  },
  {
   "cell_type": "markdown",
   "id": "7f9e4bd8",
   "metadata": {},
   "source": [
    "### Building Transfomrer from scratch\n",
    "i. Multi-Headed Attention Layer <br>\n",
    "1. Linear Layer <br>\n",
    "2. Scaler Dot Product Attention <br>\n",
    "3. Final Linear Layer<br> \n",
    "\n",
    "ii. Encoder <br>\n",
    "iii. Decoder <br>\n",
    "iv. Tranformer Model <br>\n"
   ]
  },
  {
   "cell_type": "code",
   "execution_count": 95,
   "id": "3efe9fd1",
   "metadata": {},
   "outputs": [],
   "source": [
    "def scaled_dot_product_attention(q, k, v, mask):\n",
    "    \"\"\"Calculate the attention weights.\n",
    "    q, k, v must have matching leading dimensions.\n",
    "    k, v must have matching penultimate dimension, i.e.: seq_len_k = seq_len_v.\n",
    "    The mask has different shapes depending on its type(padding or look ahead)\n",
    "    but it must be broadcastable for addition.\n",
    "\n",
    "    Args:\n",
    "    q: query shape == (..., seq_len_q, depth)\n",
    "    k: key shape == (..., seq_len_k, depth)\n",
    "    v: value shape == (..., seq_len_v, depth_v)\n",
    "    mask: Float tensor with shape broadcastable\n",
    "          to (..., seq_len_q, seq_len_k). Defaults to None.\n",
    "\n",
    "    Returns:\n",
    "    output, attention_weights\n",
    "    \"\"\"\n",
    "\n",
    "    matmul_qk = tf.matmul(q, k, transpose_b=True)  # (..., seq_len_q, seq_len_k)\n",
    "    ## shape is determined by simple matrix multiplication rule \n",
    "\n",
    "    # scale matmul_qk\n",
    "    dk = tf.cast(tf.shape(k)[-1], tf.float32)\n",
    "    #dk is the square root dimension of keys\n",
    "    scaled_attention_logits = matmul_qk / tf.math.sqrt(dk)\n",
    "\n",
    "    # add the mask to the scaled tensor.\n",
    "    if mask is not None:\n",
    "        scaled_attention_logits += (mask * -1e9)\n",
    "\n",
    "    # softmax is normalized on the last axis (seq_len_k) so that the scores\n",
    "    # add up to 1.\n",
    "    attention_weights = tf.nn.softmax(scaled_attention_logits, axis=-1)  # (..., seq_len_q, seq_len_k)\n",
    "\n",
    "    output = tf.matmul(attention_weights, v)  # (..., seq_len_q, depth_v)\n",
    "\n",
    "    return output, attention_weights\n"
   ]
  },
  {
   "cell_type": "code",
   "execution_count": 96,
   "id": "f754518e",
   "metadata": {},
   "outputs": [],
   "source": [
    "## here d_model is feature dimension as well as dimension of the k\n",
    "class MultiHeadAttention(tf.keras.layers.Layer):\n",
    "    def __init__(self,*, d_model, num_heads): ##(self,*,d_model=dimension of k,num_heads)\n",
    "        \n",
    "        ##  d_model refer to the dimension of the q,v,k\n",
    "        super(MultiHeadAttention, self).__init__()\n",
    "        self.num_heads = num_heads\n",
    "        self.d_model = d_model\n",
    "\n",
    "        assert d_model % self.num_heads == 0\n",
    "\n",
    "        self.depth = d_model // self.num_heads\n",
    "\n",
    "        self.wq = tf.keras.layers.Dense(d_model) ## Must Define dense layer separately for all because Dense() always expect same shape but q,v,k may have different shape\n",
    "        self.wk = tf.keras.layers.Dense(d_model)\n",
    "        self.wv = tf.keras.layers.Dense(d_model)\n",
    "\n",
    "        self.dense = tf.keras.layers.Dense(d_model)\n",
    "    def split_heads(self, x, batch_size):\n",
    "    #     Split the last dimension into (num_heads, depth).\n",
    "    #     Transpose the result such that the shape is (batch_size, num_heads, seq_len, depth)\n",
    "\n",
    "         #because of this split the computational time is same \n",
    "         #even when the number of heads is increased\n",
    "        \n",
    "        x = tf.reshape(x, (batch_size, -1, self.num_heads, self.depth))\n",
    "        return tf.transpose(x, perm=[0, 2, 1, 3])\n",
    "\n",
    "    def call(self, v, k, q, mask):\n",
    "        batch_size = tf.shape(q)[0]\n",
    "\n",
    "        q = self.wq(q)  # q.shape= (batch_size, seq_len, d_model) ;Change the last dimesnion to d_model\n",
    "        k = self.wk(k)  # (batch_size, seq_len, d_model)\n",
    "        v = self.wv(v)  # (batch_size, seq_len, d_model)\n",
    "\n",
    "        q = self.split_heads(q, batch_size)  # (batch_size, num_heads, seq_len_q, depth)\n",
    "        k = self.split_heads(k, batch_size)  # (batch_size, num_heads, seq_len_k, depth)\n",
    "        v = self.split_heads(v, batch_size)  # (batch_size, num_heads, seq_len_v, depth)\n",
    "\n",
    "        # scaled_attention.shape == (batch_size, num_heads, seq_len_q, depth)\n",
    "        # attention_weights.shape == (batch_size, num_heads, seq_len_q, seq_len_k)\n",
    "        scaled_attention, attention_weights = scaled_dot_product_attention(\n",
    "            q, k, v, mask)\n",
    "\n",
    "        scaled_attention = tf.transpose(scaled_attention, perm=[0, 2, 1, 3])  # (batch_size, seq_len_q, num_heads, depth)\n",
    "\n",
    "        concat_attention = tf.reshape(scaled_attention,\n",
    "                                      (batch_size, -1, self.d_model))  # (batch_size, seq_len_q, d_model)\n",
    "\n",
    "        output = self.dense(concat_attention)  # (batch_size, seq_len_q, d_model) \n",
    "        ## this must assume the d_model and feature length is same \n",
    "\n",
    "        return output, attention_weights"
   ]
  },
  {
   "cell_type": "markdown",
   "id": "e8f88c16",
   "metadata": {},
   "source": [
    "*Testing the Above MultiHeadedAttention()*"
   ]
  },
  {
   "cell_type": "code",
   "execution_count": 97,
   "id": "91a3a824",
   "metadata": {},
   "outputs": [
    {
     "data": {
      "text/plain": [
       "(TensorShape([63, 43, 512]), TensorShape([63, 8, 43, 43]))"
      ]
     },
     "execution_count": 97,
     "metadata": {},
     "output_type": "execute_result"
    }
   ],
   "source": [
    "temp_mha = MultiHeadAttention(d_model=512, num_heads=8)\n",
    "y = tf.random.uniform((63,43,64))  # (batch_size, encoder_sequence, d_model)\n",
    "out, attn = temp_mha(y, k=y, q=y, mask=None)\n",
    "out.shape, attn.shape"
   ]
  },
  {
   "cell_type": "code",
   "execution_count": 98,
   "id": "ebacc06d",
   "metadata": {},
   "outputs": [
    {
     "data": {
      "text/plain": [
       "TensorShape([63, 43, 64])"
      ]
     },
     "execution_count": 98,
     "metadata": {},
     "output_type": "execute_result"
    }
   ],
   "source": [
    "y.shape"
   ]
  },
  {
   "cell_type": "markdown",
   "id": "1abcc4a6",
   "metadata": {},
   "source": [
    "### Point wise feed forward network\n",
    ">Point wise feed forward network consists of two fully-connected layers with a ReLU activation in between."
   ]
  },
  {
   "cell_type": "code",
   "execution_count": 99,
   "id": "c989348a",
   "metadata": {},
   "outputs": [],
   "source": [
    "def point_wise_feed_forward_network(d_model, dff):\n",
    "    return tf.keras.Sequential([\n",
    "      tf.keras.layers.Dense(dff, activation='relu'),  # (batch_size, seq_len, dff)\n",
    "      tf.keras.layers.Dense(d_model)  # (batch_size, seq_len, d_model)\n",
    "    ])"
   ]
  },
  {
   "cell_type": "markdown",
   "id": "8878d5d3",
   "metadata": {},
   "source": [
    "## Encoder\n",
    "Each encoder layer consists of sublayers:\n",
    "1. Multi-head Attention\n",
    "2. Point wise feed forward networks"
   ]
  },
  {
   "cell_type": "code",
   "execution_count": 100,
   "id": "b6ef7662",
   "metadata": {},
   "outputs": [],
   "source": [
    "class EncoderLayer(tf.keras.layers.Layer):\n",
    "    def __init__(self,*, d_model, num_heads, dff, rate=0.1):\n",
    "        super(EncoderLayer, self).__init__()\n",
    "\n",
    "        self.mha = MultiHeadAttention(d_model=d_model, num_heads=num_heads)\n",
    "        self.ffn = point_wise_feed_forward_network(d_model, dff)\n",
    "\n",
    "        self.layernorm1 = tf.keras.layers.LayerNormalization(epsilon=1e-6)\n",
    "        self.layernorm2 = tf.keras.layers.LayerNormalization(epsilon=1e-6)\n",
    "\n",
    "        self.dropout1 = tf.keras.layers.Dropout(rate)\n",
    "        self.dropout2 = tf.keras.layers.Dropout(rate)\n",
    "\n",
    "    def call(self, x, training, mask):\n",
    "\n",
    "        attn_output, _ = self.mha(x, x, x, mask)  # att_ouptput.shape=(batch_size, input_seq_len, d_model)\n",
    "        attn_output = self.dropout1(attn_output, training=training)\n",
    "        ##d_model must be equal to feature_dimension otherwise error in addition x + attn_output\n",
    "        out1 = self.layernorm1(x + attn_output)  # (batch_size, input_seq_len, d_model)\n",
    "\n",
    "        ffn_output = self.ffn(out1)  # (batch_size, input_seq_len, d_model)\n",
    "        ffn_output = self.dropout2(ffn_output, training=training)\n",
    "        out2 = self.layernorm2(out1 + ffn_output)  # (batch_size, input_seq_len, d_model)\n",
    "\n",
    "        return out2"
   ]
  },
  {
   "cell_type": "code",
   "execution_count": 120,
   "id": "22c6f116",
   "metadata": {},
   "outputs": [
    {
     "data": {
      "text/plain": [
       "TensorShape([64, 43, 512])"
      ]
     },
     "execution_count": 120,
     "metadata": {},
     "output_type": "execute_result"
    }
   ],
   "source": [
    "sample_encoder_layer = EncoderLayer(d_model=512, num_heads=8, dff=2048)\n",
    "\n",
    "\n",
    "sample_encoder_layer_output = sample_encoder_layer(\n",
    "    tf.random.uniform((64, 43, 512)), False, None)\n",
    "\n",
    "sample_encoder_layer_output.shape  # (batch_size, input_seq_len, d_model)"
   ]
  },
  {
   "cell_type": "code",
   "execution_count": 173,
   "id": "4539e4ce",
   "metadata": {},
   "outputs": [],
   "source": [
    "class Encoder(tf.keras.layers.Layer):\n",
    "    def __init__(self,*, num_layers, d_model, num_heads, dff, input_vocab_size,\n",
    "               rate=0.1):\n",
    "        super(Encoder, self).__init__()\n",
    "\n",
    "        self.d_model = d_model\n",
    "        self.num_layers = num_layers\n",
    "\n",
    "        self.embedding = tf.keras.layers.Embedding(input_vocab_size, d_model)\n",
    "        ## To embed to d_model\n",
    "        ## test code in below cell\n",
    "        self.pos_encoding = positional_encoding(MAX_TOKENS, self.d_model)#\n",
    "\n",
    "        self.enc_layers = [\n",
    "            EncoderLayer(d_model=d_model, num_heads=num_heads, dff=dff, rate=rate)\n",
    "            for _ in range(num_layers)]\n",
    "\n",
    "        self.dropout = tf.keras.layers.Dropout(rate)\n",
    "\n",
    "    def call(self, x, training, mask):\n",
    "        ## x.shape=[batch_size,seq_len]\n",
    "\n",
    "        seq_len = tf.shape(x)[1]\n",
    "\n",
    "        # adding embedding and position encoding.\n",
    "        x = self.embedding(x)  # (batch_size, input_seq_len, d_model)\n",
    "        ### We don't need this while using skeleton features\n",
    "        ### However the shape of the x will be [batch_size,seq_len,num_features]\n",
    "        x *= tf.math.sqrt(tf.cast(self.d_model, tf.float32))\n",
    "        \n",
    "        x += self.pos_encoding[:, :seq_len, :] #Slices out the shape not in after embedding\n",
    "\n",
    "        x = self.dropout(x, training=training)\n",
    "\n",
    "        for i in range(self.num_layers):\n",
    "            x = self.enc_layers[i](x, training, mask)\n",
    "\n",
    "        return x  # (batch_size, input_seq_len, d_model)"
   ]
  },
  {
   "cell_type": "code",
   "execution_count": 175,
   "id": "11d6b3e8",
   "metadata": {},
   "outputs": [],
   "source": [
    "#try the below code to understand more about embedding and positional embedding"
   ]
  },
  {
   "cell_type": "markdown",
   "id": "5ea02f4a",
   "metadata": {},
   "source": [
    "<code> #Python\n",
    "emb=tf.keras.layers.Embedding(8500, 512)\n",
    "pos=positional_encoding(MAX_TOKENS,512)\n",
    "print('Pos_emb.shape: ',pos.shape)\n",
    "Pos_emb.shape:  (1, 128, 512)\n",
    "</code>    "
   ]
  },
  {
   "cell_type": "markdown",
   "id": "066220f3",
   "metadata": {},
   "source": [
    "<code> #Python\n",
    "x=tf.random.uniform((64, 62), dtype=tf.int64, minval=0, maxval=200) #input\n",
    "x=emb(x)\n",
    "print('After Embedding: x.shape ',x.shape)\n",
    "</code>"
   ]
  },
  {
   "cell_type": "markdown",
   "id": "0898ed2d",
   "metadata": {},
   "source": [
    "<code> #Python\n",
    "x *= tf.math.sqrt(tf.cast(512, tf.float32))\n",
    "print('x.shape: ',x.shape)\n",
    "</code>"
   ]
  },
  {
   "cell_type": "markdown",
   "id": "90f31b05",
   "metadata": {},
   "source": [
    "<code> #Python\n",
    "pos=pos[:,:62,:] # 62 =tf.shape(x)[1] \n",
    "print('Pos_emb.shape: ',pos.shape)\n",
    "</code>"
   ]
  },
  {
   "cell_type": "markdown",
   "id": "0bdcdd87",
   "metadata": {},
   "source": [
    "<code>\n",
    "print(x.shape)=TensorShape([64, 62, 512])\n",
    "</code>    "
   ]
  },
  {
   "cell_type": "code",
   "execution_count": 123,
   "id": "c7f77dd5",
   "metadata": {},
   "outputs": [
    {
     "name": "stdout",
     "output_type": "stream",
     "text": [
      "(64, 62, 512)\n"
     ]
    }
   ],
   "source": [
    "sample_encoder = Encoder(num_layers=2, d_model=512, num_heads=8,\n",
    "                         dff=2048, input_vocab_size=8500)\n",
    "temp_input = tf.random.uniform((64, 62), dtype=tf.int64, minval=0, maxval=200)\n",
    "\n",
    "sample_encoder_output = sample_encoder(temp_input, training=False, mask=None)\n",
    "\n",
    "print(sample_encoder_output.shape)  # (batch_size, input_seq_len, d_model)"
   ]
  },
  {
   "cell_type": "code",
   "execution_count": 124,
   "id": "5fe2d6d9",
   "metadata": {},
   "outputs": [
    {
     "name": "stdout",
     "output_type": "stream",
     "text": [
      "Pos_emb.shape:  (1, 128, 512)\n"
     ]
    }
   ],
   "source": [
    "emb=tf.keras.layers.Embedding(8500, 512)\n",
    "pos=positional_encoding(MAX_TOKENS,512)\n",
    "print('Pos_emb.shape: ',pos.shape)"
   ]
  },
  {
   "cell_type": "markdown",
   "id": "905ddb1a",
   "metadata": {},
   "source": [
    "## Decoder layer\n",
    "Each decoder layer consists of sublayers: <br>\n",
    "1. Masked multi-head attention (with look ahead mask and padding mask) \n",
    "2. *** Multi-head attention (with padding mask). V (value) and K (key) receive the encoder output as inputs. Q (query) receives the output from the masked multi-head attention sublayer.  ***\n",
    "3. Point wise feed forward networks.\n",
    "<br> <br>\n",
    "Each of these sublayers has a residual connection around it followed by a layer normalization. The output of each sublayer is LayerNorm(x + Sublayer(x)). The normalization is done on the d_model (last) axis.\n",
    "\n",
    ">As Q receives the output from decoder's first attention block, and K receives the encoder output, the attention weights represent the importance given to the decoder's input based on the encoder's output.<b> In other words, the decoder predicts the next token by looking at the encoder output and self-attending to its own output. See the demonstration above in the scaled dot product attention section.</b>"
   ]
  },
  {
   "cell_type": "code",
   "execution_count": 125,
   "id": "ab3d1fa0",
   "metadata": {},
   "outputs": [],
   "source": [
    "class DecoderLayer(tf.keras.layers.Layer):\n",
    "    def __init__(self,*, d_model, num_heads, dff, rate=0.1):\n",
    "        super(DecoderLayer, self).__init__()\n",
    "\n",
    "        self.mha1 = MultiHeadAttention(d_model=d_model, num_heads=num_heads)\n",
    "        self.mha2 = MultiHeadAttention(d_model=d_model, num_heads=num_heads)\n",
    "\n",
    "        self.ffn = point_wise_feed_forward_network(d_model, dff)\n",
    "\n",
    "        self.layernorm1 = tf.keras.layers.LayerNormalization(epsilon=1e-6)\n",
    "        self.layernorm2 = tf.keras.layers.LayerNormalization(epsilon=1e-6)\n",
    "        self.layernorm3 = tf.keras.layers.LayerNormalization(epsilon=1e-6)\n",
    "\n",
    "        self.dropout1 = tf.keras.layers.Dropout(rate)\n",
    "        self.dropout2 = tf.keras.layers.Dropout(rate)\n",
    "        self.dropout3 = tf.keras.layers.Dropout(rate)\n",
    "\n",
    "    def call(self, x, enc_output, training,\n",
    "               look_ahead_mask, padding_mask):\n",
    "        # enc_output.shape == (batch_size, input_seq_len, d_model)\n",
    "\n",
    "        attn1, attn_weights_block1 = self.mha1(x, x, x, look_ahead_mask) ## v,k,q order  \n",
    "        # (batch_size, target_seq_len, d_model)\n",
    "        attn1 = self.dropout1(attn1, training=training)\n",
    "        out1 = self.layernorm1(attn1 + x)\n",
    "\n",
    "        attn2, attn_weights_block2 = self.mha2(\n",
    "            enc_output, enc_output, out1, padding_mask)  ## v and k are from encoder \n",
    "        # (batch_size, target_seq_len, d_model)\n",
    "        attn2 = self.dropout2(attn2, training=training)\n",
    "        out2 = self.layernorm2(attn2 + out1)  # (batch_size, target_seq_len, d_model)\n",
    "\n",
    "        ffn_output = self.ffn(out2)  # (batch_size, target_seq_len, d_model)\n",
    "        ffn_output = self.dropout3(ffn_output, training=training)\n",
    "        out3 = self.layernorm3(ffn_output + out2)  # (batch_size, target_seq_len, d_model)\n",
    "\n",
    "        return out3, attn_weights_block1, attn_weights_block2"
   ]
  },
  {
   "cell_type": "code",
   "execution_count": 168,
   "id": "b95b0373",
   "metadata": {},
   "outputs": [
    {
     "data": {
      "text/plain": [
       "TensorShape([64, 50, 512])"
      ]
     },
     "execution_count": 168,
     "metadata": {},
     "output_type": "execute_result"
    }
   ],
   "source": [
    "sample_decoder_layer = DecoderLayer(d_model=512, num_heads=8, dff=2048)\n",
    "\n",
    "sample_decoder_layer_output, _, _ = sample_decoder_layer(\n",
    "    tf.random.uniform((64, 50, 512)), sample_encoder_layer_output,\n",
    "    False, None, None)\n",
    "\n",
    "sample_decoder_layer_output.shape  # (batch_size, target_seq_len, d_model)"
   ]
  },
  {
   "cell_type": "code",
   "execution_count": 127,
   "id": "30779629",
   "metadata": {},
   "outputs": [],
   "source": [
    "class Decoder(tf.keras.layers.Layer):\n",
    "    def __init__(self,*, num_layers, d_model, num_heads, dff, target_vocab_size,\n",
    "                   rate=0.1):\n",
    "        super(Decoder, self).__init__()\n",
    "\n",
    "        self.d_model = d_model\n",
    "        self.num_layers = num_layers\n",
    "\n",
    "        self.embedding = tf.keras.layers.Embedding(target_vocab_size, d_model)\n",
    "        self.pos_encoding = positional_encoding(MAX_TOKENS, d_model)\n",
    "\n",
    "        self.dec_layers = [\n",
    "            DecoderLayer(d_model=d_model, num_heads=num_heads, dff=dff, rate=rate)\n",
    "            for _ in range(num_layers)]\n",
    "        self.dropout = tf.keras.layers.Dropout(rate)\n",
    "\n",
    "    def call(self, x, enc_output, training,\n",
    "               look_ahead_mask, padding_mask):\n",
    "\n",
    "        seq_len = tf.shape(x)[1]\n",
    "        attention_weights = {}\n",
    "\n",
    "        x = self.embedding(x)  # (batch_size, target_seq_len, d_model)\n",
    "        x *= tf.math.sqrt(tf.cast(self.d_model, tf.float32))\n",
    "        x += self.pos_encoding[:, :seq_len, :]\n",
    "\n",
    "        x = self.dropout(x, training=training)\n",
    "\n",
    "        for i in range(self.num_layers):\n",
    "            x, block1, block2 = self.dec_layers[i](x, enc_output, training,\n",
    "                                                 look_ahead_mask, padding_mask)\n",
    "\n",
    "            attention_weights[f'decoder_layer{i+1}_block1'] = block1\n",
    "            attention_weights[f'decoder_layer{i+1}_block2'] = block2\n",
    "\n",
    "        # x.shape == (batch_size, target_seq_len, d_model)\n",
    "        return x, attention_weights"
   ]
  },
  {
   "cell_type": "markdown",
   "id": "8d7f3e32",
   "metadata": {},
   "source": [
    "### Creating a Transformer Model\n"
   ]
  },
  {
   "cell_type": "code",
   "execution_count": 128,
   "id": "a095b657",
   "metadata": {},
   "outputs": [],
   "source": [
    "class Transformer(tf.keras.Model):\n",
    "    def __init__(self,*, num_layers, d_model, num_heads, dff, input_vocab_size,\n",
    "                   target_vocab_size, rate=0.1):\n",
    "        super().__init__()\n",
    "        self.encoder = Encoder(num_layers=num_layers, d_model=d_model,\n",
    "                               num_heads=num_heads, dff=dff,\n",
    "                               input_vocab_size=input_vocab_size, rate=rate)\n",
    "\n",
    "        self.decoder = Decoder(num_layers=num_layers, d_model=d_model,\n",
    "                               num_heads=num_heads, dff=dff,\n",
    "                               target_vocab_size=target_vocab_size, rate=rate)\n",
    "\n",
    "        self.final_layer = tf.keras.layers.Dense(target_vocab_size)\n",
    "\n",
    "    def call(self, inputs, training):\n",
    "        # Keras models prefer if you pass all your inputs in the first argument\n",
    "        inp, tar = inputs\n",
    "\n",
    "        padding_mask, look_ahead_mask = self.create_masks(inp, tar)\n",
    "\n",
    "        enc_output = self.encoder(inp, training, padding_mask)  # (batch_size, inp_seq_len, d_model)\n",
    "\n",
    "        # dec_output.shape == (batch_size, tar_seq_len, d_model)\n",
    "        dec_output, attention_weights = self.decoder(\n",
    "            tar, enc_output, training, look_ahead_mask, padding_mask)\n",
    "\n",
    "        final_output = self.final_layer(dec_output)  # (batch_size, tar_seq_len, target_vocab_size)\n",
    "\n",
    "        return final_output, attention_weights\n",
    "\n",
    "    def create_masks(self, inp, tar):\n",
    "        # Encoder padding mask (Used in the 2nd attention block in the decoder too.)\n",
    "        padding_mask = create_padding_mask(inp)\n",
    "\n",
    "        # Used in the 1st attention block in the decoder.\n",
    "        # It is used to pad and mask future tokens in the input received by\n",
    "        # the decoder.\n",
    "        look_ahead_mask = create_look_ahead_mask(tf.shape(tar)[1])\n",
    "        dec_target_padding_mask = create_padding_mask(tar)\n",
    "        look_ahead_mask = tf.maximum(dec_target_padding_mask, look_ahead_mask)\n",
    "\n",
    "        return padding_mask, look_ahead_mask"
   ]
  },
  {
   "cell_type": "markdown",
   "id": "eb963ac1",
   "metadata": {},
   "source": [
    "### Creating a sample Transformer model "
   ]
  },
  {
   "cell_type": "code",
   "execution_count": 178,
   "id": "5aa2e6fe",
   "metadata": {},
   "outputs": [
    {
     "data": {
      "text/plain": [
       "TensorShape([64, 36, 8000])"
      ]
     },
     "execution_count": 178,
     "metadata": {},
     "output_type": "execute_result"
    }
   ],
   "source": [
    "sample_transformer = Transformer(\n",
    "    num_layers=2, d_model=512, num_heads=8, dff=2048,\n",
    "    input_vocab_size=8500, target_vocab_size=8000)\n",
    "\n",
    "temp_input = tf.random.uniform((64, 38), dtype=tf.int64, minval=0, maxval=200)\n",
    "temp_target = tf.random.uniform((64, 36), dtype=tf.int64, minval=0, maxval=200)\n",
    "\n",
    "fn_out, _ = sample_transformer([temp_input, temp_target], training=False)\n",
    "\n",
    "fn_out.shape  # (batch_size, tar_seq_len, target_vocab_size)\n"
   ]
  },
  {
   "cell_type": "code",
   "execution_count": 180,
   "id": "c3e333b2",
   "metadata": {},
   "outputs": [
    {
     "name": "stdout",
     "output_type": "stream",
     "text": [
      "\tSummary of the model: \n",
      "\n",
      "Model: \"transformer_9\"\n",
      "_________________________________________________________________\n",
      " Layer (type)                Output Shape              Param #   \n",
      "=================================================================\n",
      " encoder_15 (Encoder)        multiple                  10656768  \n",
      "                                                                 \n",
      " decoder_9 (Decoder)         multiple                  12504064  \n",
      "                                                                 \n",
      " dense_683 (Dense)           multiple                  4104000   \n",
      "                                                                 \n",
      "=================================================================\n",
      "Total params: 27,264,832\n",
      "Trainable params: 27,264,832\n",
      "Non-trainable params: 0\n",
      "_________________________________________________________________\n",
      "None\n"
     ]
    }
   ],
   "source": [
    "print('\\tSummary of the model: \\n')\n",
    "print(sample_transformer.summary())"
   ]
  },
  {
   "cell_type": "markdown",
   "id": "37af343b",
   "metadata": {},
   "source": [
    "### Setting the HyperParameters\n"
   ]
  },
  {
   "cell_type": "code",
   "execution_count": 181,
   "id": "651dcb64",
   "metadata": {},
   "outputs": [],
   "source": [
    "num_layers = 4\n",
    "d_model = 128\n",
    "dff = 512\n",
    "num_heads = 8\n",
    "dropout_rate = 0.1"
   ]
  },
  {
   "cell_type": "markdown",
   "id": "c71a447b",
   "metadata": {},
   "source": [
    "### Test the Transformer"
   ]
  },
  {
   "cell_type": "markdown",
   "id": "30e93d86",
   "metadata": {},
   "source": [
    "### The main link has been updated. To find the previous turtorial on from tensorflow follow below link\n",
    "[previous_turtorial](https://github.com/tensorflow/text/blob/2.9/docs/tutorials/transformer.ipynb)"
   ]
  },
  {
   "cell_type": "markdown",
   "id": "0b6b9d1e",
   "metadata": {},
   "source": [
    "### Training"
   ]
  },
  {
   "cell_type": "code",
   "execution_count": 182,
   "id": "b714cf07",
   "metadata": {},
   "outputs": [],
   "source": [
    "## This learning rate is according to the paper \"Attention is all we need!\"\n",
    "class CustomSchedule(tf.keras.optimizers.schedules.LearningRateSchedule):\n",
    "    def __init__(self, d_model, warmup_steps=4000):\n",
    "        super().__init__()\n",
    "\n",
    "        self.d_model = d_model\n",
    "        self.d_model = tf.cast(self.d_model, tf.float32)\n",
    "\n",
    "        self.warmup_steps = warmup_steps\n",
    "\n",
    "    def __call__(self, step):\n",
    "        arg1 = tf.math.rsqrt(step)\n",
    "        arg2 = step * (self.warmup_steps ** -1.5)\n",
    "\n",
    "        return tf.math.rsqrt(self.d_model) * tf.math.minimum(arg1, arg2)"
   ]
  },
  {
   "cell_type": "code",
   "execution_count": 183,
   "id": "5fedc524",
   "metadata": {},
   "outputs": [
    {
     "data": {
      "text/plain": [
       "Text(0.5, 0, 'Train Step')"
      ]
     },
     "execution_count": 183,
     "metadata": {},
     "output_type": "execute_result"
    },
    {
     "data": {
      "image/png": "[encoded data removed]",
      "text/plain": [
       "<Figure size 640x480 with 1 Axes>"
      ]
     },
     "metadata": {},
     "output_type": "display_data"
    }
   ],
   "source": [
    "learning_rate = CustomSchedule(d_model)\n",
    "\n",
    "optimizer = tf.keras.optimizers.Adam(learning_rate, beta_1=0.9, beta_2=0.98,\n",
    "                                     epsilon=1e-9)\n",
    "temp_learning_rate_schedule = CustomSchedule(d_model)\n",
    "\n",
    "plt.plot(temp_learning_rate_schedule(tf.range(40000, dtype=tf.float32)))\n",
    "plt.ylabel('Learning Rate')\n",
    "plt.xlabel('Train Step')"
   ]
  },
  {
   "cell_type": "markdown",
   "id": "8a8528e9",
   "metadata": {},
   "source": [
    "## Start from here next time"
   ]
  },
  {
   "cell_type": "code",
   "execution_count": 156,
   "id": "2bf3d7fa",
   "metadata": {},
   "outputs": [],
   "source": [
    "\n",
    "\n",
    "loss_object = tf.keras.losses.SparseCategoricalCrossentropy(\n",
    "    from_logits=True, reduction='none')\n",
    "\n"
   ]
  },
  {
   "cell_type": "code",
   "execution_count": 157,
   "id": "12cfab7d",
   "metadata": {},
   "outputs": [],
   "source": [
    "def loss_function(real, pred):\n",
    "  mask = tf.math.logical_not(tf.math.equal(real, 0))\n",
    "  loss_ = loss_object(real, pred)\n",
    "\n",
    "  mask = tf.cast(mask, dtype=loss_.dtype)\n",
    "  loss_ *= mask\n",
    "\n",
    "  return tf.reduce_sum(loss_)/tf.reduce_sum(mask)\n",
    "\n",
    "\n",
    "def accuracy_function(real, pred):\n",
    "  accuracies = tf.equal(real, tf.argmax(pred, axis=2))\n",
    "\n",
    "  mask = tf.math.logical_not(tf.math.equal(real, 0))\n",
    "  accuracies = tf.math.logical_and(mask, accuracies)\n",
    "\n",
    "  accuracies = tf.cast(accuracies, dtype=tf.float32)\n",
    "  mask = tf.cast(mask, dtype=tf.float32)\n",
    "  return tf.reduce_sum(accuracies)/tf.reduce_sum(mask)\n"
   ]
  },
  {
   "cell_type": "code",
   "execution_count": 158,
   "id": "77629b19",
   "metadata": {},
   "outputs": [],
   "source": [
    "\n",
    "\n",
    "train_loss = tf.keras.metrics.Mean(name='train_loss')\n",
    "train_accuracy = tf.keras.metrics.Mean(name='train_accuracy')\n",
    "\n"
   ]
  },
  {
   "cell_type": "code",
   "execution_count": 159,
   "id": "2bd247e9",
   "metadata": {},
   "outputs": [],
   "source": [
    "transformer = Transformer(\n",
    "    num_layers=num_layers,\n",
    "    d_model=d_model,\n",
    "    num_heads=num_heads,\n",
    "    dff=dff,\n",
    "    input_vocab_size=tokenizers.pt.get_vocab_size().numpy(),\n",
    "    target_vocab_size=tokenizers.en.get_vocab_size().numpy(),\n",
    "    rate=dropout_rate)"
   ]
  },
  {
   "cell_type": "code",
   "execution_count": 161,
   "id": "238ac7aa",
   "metadata": {},
   "outputs": [],
   "source": [
    "checkpoint_path = './checkpoints/train'\n",
    "\n",
    "ckpt = tf.train.Checkpoint(transformer=transformer,\n",
    "                           optimizer=optimizer)\n",
    "\n",
    "ckpt_manager = tf.train.CheckpointManager(ckpt, checkpoint_path, max_to_keep=5)\n",
    "\n",
    "# if a checkpoint exists, restore the latest checkpoint.\n",
    "if ckpt_manager.latest_checkpoint:\n",
    "  ckpt.restore(ckpt_manager.latest_checkpoint)\n",
    "  print('Latest checkpoint restored!!')\n"
   ]
  },
  {
   "cell_type": "code",
   "execution_count": 162,
   "id": "a7fa5470",
   "metadata": {},
   "outputs": [],
   "source": [
    "EPOCHS = 20\n"
   ]
  },
  {
   "cell_type": "code",
   "execution_count": 163,
   "id": "d9f9a01d",
   "metadata": {},
   "outputs": [],
   "source": [
    "\n",
    "train_step_signature = [\n",
    "    tf.TensorSpec(shape=(None, None), dtype=tf.int64),\n",
    "    tf.TensorSpec(shape=(None, None), dtype=tf.int64),\n",
    "]\n",
    "\n",
    "\n",
    "@tf.function(input_signature=train_step_signature)\n",
    "def train_step(inp, tar):\n",
    "  tar_inp = tar[:, :-1]\n",
    "  tar_real = tar[:, 1:]\n",
    "\n",
    "  with tf.GradientTape() as tape:\n",
    "    predictions, _ = transformer([inp, tar_inp],\n",
    "                                 training = True)\n",
    "    loss = loss_function(tar_real, predictions)\n",
    "\n",
    "  gradients = tape.gradient(loss, transformer.trainable_variables)\n",
    "  optimizer.apply_gradients(zip(gradients, transformer.trainable_variables))\n",
    "\n",
    "  train_loss(loss)\n",
    "  train_accuracy(accuracy_function(tar_real, predictions))\n"
   ]
  },
  {
   "cell_type": "code",
   "execution_count": 164,
   "id": "087d32b4",
   "metadata": {},
   "outputs": [
    {
     "name": "stdout",
     "output_type": "stream",
     "text": [
      "Epoch 1 Batch 0 Loss 8.8958 Accuracy 0.0000\n",
      "Epoch 1 Batch 50 Loss 8.8254 Accuracy 0.0026\n",
      "Epoch 1 Batch 100 Loss 8.7114 Accuracy 0.0229\n",
      "Epoch 1 Batch 150 Loss 8.5964 Accuracy 0.0314\n",
      "Epoch 1 Batch 200 Loss 8.4578 Accuracy 0.0366\n",
      "Epoch 1 Batch 250 Loss 8.2897 Accuracy 0.0397\n",
      "Epoch 1 Batch 300 Loss 8.1001 Accuracy 0.0449\n",
      "Epoch 1 Batch 350 Loss 7.9007 Accuracy 0.0526\n",
      "Epoch 1 Batch 400 Loss 7.7109 Accuracy 0.0594\n",
      "Epoch 1 Batch 450 Loss 7.5410 Accuracy 0.0667\n",
      "Epoch 1 Batch 500 Loss 7.3958 Accuracy 0.0744\n",
      "Epoch 1 Batch 550 Loss 7.2599 Accuracy 0.0829\n",
      "Epoch 1 Batch 600 Loss 7.1314 Accuracy 0.0910\n",
      "Epoch 1 Batch 650 Loss 7.0121 Accuracy 0.0985\n",
      "Epoch 1 Loss 6.9097 Accuracy 0.1047\n",
      "Time taken for 1 epoch: 91.03 secs\n",
      "\n",
      "Epoch 2 Batch 0 Loss 5.4292 Accuracy 0.1960\n",
      "Epoch 2 Batch 50 Loss 5.3838 Accuracy 0.1981\n",
      "Epoch 2 Batch 100 Loss 5.3439 Accuracy 0.2016\n",
      "Epoch 2 Batch 150 Loss 5.3115 Accuracy 0.2048\n",
      "Epoch 2 Batch 200 Loss 5.2714 Accuracy 0.2089\n",
      "Epoch 2 Batch 250 Loss 5.2436 Accuracy 0.2121\n",
      "Epoch 2 Batch 300 Loss 5.2131 Accuracy 0.2151\n",
      "Epoch 2 Batch 350 Loss 5.1871 Accuracy 0.2175\n",
      "Epoch 2 Batch 400 Loss 5.1593 Accuracy 0.2206\n",
      "Epoch 2 Batch 450 Loss 5.1356 Accuracy 0.2231\n",
      "Epoch 2 Batch 500 Loss 5.1117 Accuracy 0.2253\n",
      "Epoch 2 Batch 550 Loss 5.0926 Accuracy 0.2273\n",
      "Epoch 2 Batch 600 Loss 5.0679 Accuracy 0.2297\n",
      "Epoch 2 Batch 650 Loss 5.0464 Accuracy 0.2319\n",
      "Epoch 2 Loss 5.0265 Accuracy 0.2337\n",
      "Time taken for 1 epoch: 83.84 secs\n",
      "\n",
      "Epoch 3 Batch 0 Loss 4.5561 Accuracy 0.2625\n",
      "Epoch 3 Batch 50 Loss 4.7172 Accuracy 0.2621\n",
      "Epoch 3 Batch 100 Loss 4.6906 Accuracy 0.2645\n",
      "Epoch 3 Batch 150 Loss 4.6793 Accuracy 0.2655\n",
      "Epoch 3 Batch 200 Loss 4.6714 Accuracy 0.2649\n",
      "Epoch 3 Batch 250 Loss 4.6581 Accuracy 0.2665\n",
      "Epoch 3 Batch 300 Loss 4.6469 Accuracy 0.2675\n",
      "Epoch 3 Batch 350 Loss 4.6338 Accuracy 0.2688\n",
      "Epoch 3 Batch 400 Loss 4.6197 Accuracy 0.2703\n",
      "Epoch 3 Batch 450 Loss 4.6064 Accuracy 0.2716\n",
      "Epoch 3 Batch 500 Loss 4.5918 Accuracy 0.2731\n",
      "Epoch 3 Batch 550 Loss 4.5784 Accuracy 0.2745\n",
      "Epoch 3 Batch 600 Loss 4.5641 Accuracy 0.2761\n",
      "Epoch 3 Batch 650 Loss 4.5501 Accuracy 0.2777\n",
      "Epoch 3 Batch 700 Loss 4.5352 Accuracy 0.2794\n",
      "Epoch 3 Loss 4.5347 Accuracy 0.2794\n",
      "Time taken for 1 epoch: 85.62 secs\n",
      "\n",
      "Epoch 4 Batch 0 Loss 4.4035 Accuracy 0.2875\n",
      "Epoch 4 Batch 50 Loss 4.2321 Accuracy 0.3099\n",
      "Epoch 4 Batch 100 Loss 4.2320 Accuracy 0.3113\n",
      "Epoch 4 Batch 150 Loss 4.2123 Accuracy 0.3135\n",
      "Epoch 4 Batch 200 Loss 4.2002 Accuracy 0.3145\n",
      "Epoch 4 Batch 250 Loss 4.1870 Accuracy 0.3159\n",
      "Epoch 4 Batch 300 Loss 4.1712 Accuracy 0.3181\n",
      "Epoch 4 Batch 350 Loss 4.1565 Accuracy 0.3200\n",
      "Epoch 4 Batch 400 Loss 4.1384 Accuracy 0.3226\n",
      "Epoch 4 Batch 450 Loss 4.1216 Accuracy 0.3250\n"
     ]
    },
    {
     "ename": "KeyboardInterrupt",
     "evalue": "",
     "output_type": "error",
     "traceback": [
      "\u001b[0;31m---------------------------------------------------------------------------\u001b[0m",
      "\u001b[0;31mKeyboardInterrupt\u001b[0m                         Traceback (most recent call last)",
      "\u001b[1;32m/media/akashghimire/28E0-A271/Python Projects/Transformer-Bert/BERT.ipynb Cell 96\u001b[0m in \u001b[0;36m<cell line: 1>\u001b[0;34m()\u001b[0m\n\u001b[1;32m      <a href='vscode-notebook-cell:/media/akashghimire/28E0-A271/Python%20Projects/Transformer-Bert/BERT.ipynb#Y213sZmlsZQ%3D%3D?line=6'>7</a>\u001b[0m \u001b[39m# inp -> portuguese, tar -> english\u001b[39;00m\n\u001b[1;32m      <a href='vscode-notebook-cell:/media/akashghimire/28E0-A271/Python%20Projects/Transformer-Bert/BERT.ipynb#Y213sZmlsZQ%3D%3D?line=7'>8</a>\u001b[0m \u001b[39mfor\u001b[39;00m (batch, (inp, tar)) \u001b[39min\u001b[39;00m \u001b[39menumerate\u001b[39m(train_batches):\n\u001b[0;32m----> <a href='vscode-notebook-cell:/media/akashghimire/28E0-A271/Python%20Projects/Transformer-Bert/BERT.ipynb#Y213sZmlsZQ%3D%3D?line=8'>9</a>\u001b[0m   train_step(inp, tar)\n\u001b[1;32m     <a href='vscode-notebook-cell:/media/akashghimire/28E0-A271/Python%20Projects/Transformer-Bert/BERT.ipynb#Y213sZmlsZQ%3D%3D?line=10'>11</a>\u001b[0m   \u001b[39mif\u001b[39;00m batch \u001b[39m%\u001b[39m \u001b[39m50\u001b[39m \u001b[39m==\u001b[39m \u001b[39m0\u001b[39m:\n\u001b[1;32m     <a href='vscode-notebook-cell:/media/akashghimire/28E0-A271/Python%20Projects/Transformer-Bert/BERT.ipynb#Y213sZmlsZQ%3D%3D?line=11'>12</a>\u001b[0m     \u001b[39mprint\u001b[39m(\u001b[39mf\u001b[39m\u001b[39m'\u001b[39m\u001b[39mEpoch \u001b[39m\u001b[39m{\u001b[39;00mepoch \u001b[39m+\u001b[39m \u001b[39m1\u001b[39m\u001b[39m}\u001b[39;00m\u001b[39m Batch \u001b[39m\u001b[39m{\u001b[39;00mbatch\u001b[39m}\u001b[39;00m\u001b[39m Loss \u001b[39m\u001b[39m{\u001b[39;00mtrain_loss\u001b[39m.\u001b[39mresult()\u001b[39m:\u001b[39;00m\u001b[39m.4f\u001b[39m\u001b[39m}\u001b[39;00m\u001b[39m Accuracy \u001b[39m\u001b[39m{\u001b[39;00mtrain_accuracy\u001b[39m.\u001b[39mresult()\u001b[39m:\u001b[39;00m\u001b[39m.4f\u001b[39m\u001b[39m}\u001b[39;00m\u001b[39m'\u001b[39m)\n",
      "File \u001b[0;32m~/anaconda3/envs/vision/lib/python3.10/site-packages/tensorflow/python/util/traceback_utils.py:150\u001b[0m, in \u001b[0;36mfilter_traceback.<locals>.error_handler\u001b[0;34m(*args, **kwargs)\u001b[0m\n\u001b[1;32m    148\u001b[0m filtered_tb \u001b[39m=\u001b[39m \u001b[39mNone\u001b[39;00m\n\u001b[1;32m    149\u001b[0m \u001b[39mtry\u001b[39;00m:\n\u001b[0;32m--> 150\u001b[0m   \u001b[39mreturn\u001b[39;00m fn(\u001b[39m*\u001b[39;49margs, \u001b[39m*\u001b[39;49m\u001b[39m*\u001b[39;49mkwargs)\n\u001b[1;32m    151\u001b[0m \u001b[39mexcept\u001b[39;00m \u001b[39mException\u001b[39;00m \u001b[39mas\u001b[39;00m e:\n\u001b[1;32m    152\u001b[0m   filtered_tb \u001b[39m=\u001b[39m _process_traceback_frames(e\u001b[39m.\u001b[39m__traceback__)\n",
      "File \u001b[0;32m~/anaconda3/envs/vision/lib/python3.10/site-packages/tensorflow/python/eager/def_function.py:915\u001b[0m, in \u001b[0;36mFunction.__call__\u001b[0;34m(self, *args, **kwds)\u001b[0m\n\u001b[1;32m    912\u001b[0m compiler \u001b[39m=\u001b[39m \u001b[39m\"\u001b[39m\u001b[39mxla\u001b[39m\u001b[39m\"\u001b[39m \u001b[39mif\u001b[39;00m \u001b[39mself\u001b[39m\u001b[39m.\u001b[39m_jit_compile \u001b[39melse\u001b[39;00m \u001b[39m\"\u001b[39m\u001b[39mnonXla\u001b[39m\u001b[39m\"\u001b[39m\n\u001b[1;32m    914\u001b[0m \u001b[39mwith\u001b[39;00m OptionalXlaContext(\u001b[39mself\u001b[39m\u001b[39m.\u001b[39m_jit_compile):\n\u001b[0;32m--> 915\u001b[0m   result \u001b[39m=\u001b[39m \u001b[39mself\u001b[39;49m\u001b[39m.\u001b[39;49m_call(\u001b[39m*\u001b[39;49margs, \u001b[39m*\u001b[39;49m\u001b[39m*\u001b[39;49mkwds)\n\u001b[1;32m    917\u001b[0m new_tracing_count \u001b[39m=\u001b[39m \u001b[39mself\u001b[39m\u001b[39m.\u001b[39mexperimental_get_tracing_count()\n\u001b[1;32m    918\u001b[0m without_tracing \u001b[39m=\u001b[39m (tracing_count \u001b[39m==\u001b[39m new_tracing_count)\n",
      "File \u001b[0;32m~/anaconda3/envs/vision/lib/python3.10/site-packages/tensorflow/python/eager/def_function.py:947\u001b[0m, in \u001b[0;36mFunction._call\u001b[0;34m(self, *args, **kwds)\u001b[0m\n\u001b[1;32m    944\u001b[0m   \u001b[39mself\u001b[39m\u001b[39m.\u001b[39m_lock\u001b[39m.\u001b[39mrelease()\n\u001b[1;32m    945\u001b[0m   \u001b[39m# In this case we have created variables on the first call, so we run the\u001b[39;00m\n\u001b[1;32m    946\u001b[0m   \u001b[39m# defunned version which is guaranteed to never create variables.\u001b[39;00m\n\u001b[0;32m--> 947\u001b[0m   \u001b[39mreturn\u001b[39;00m \u001b[39mself\u001b[39;49m\u001b[39m.\u001b[39;49m_stateless_fn(\u001b[39m*\u001b[39;49margs, \u001b[39m*\u001b[39;49m\u001b[39m*\u001b[39;49mkwds)  \u001b[39m# pylint: disable=not-callable\u001b[39;00m\n\u001b[1;32m    948\u001b[0m \u001b[39melif\u001b[39;00m \u001b[39mself\u001b[39m\u001b[39m.\u001b[39m_stateful_fn \u001b[39mis\u001b[39;00m \u001b[39mnot\u001b[39;00m \u001b[39mNone\u001b[39;00m:\n\u001b[1;32m    949\u001b[0m   \u001b[39m# Release the lock early so that multiple threads can perform the call\u001b[39;00m\n\u001b[1;32m    950\u001b[0m   \u001b[39m# in parallel.\u001b[39;00m\n\u001b[1;32m    951\u001b[0m   \u001b[39mself\u001b[39m\u001b[39m.\u001b[39m_lock\u001b[39m.\u001b[39mrelease()\n",
      "File \u001b[0;32m~/anaconda3/envs/vision/lib/python3.10/site-packages/tensorflow/python/eager/function.py:2496\u001b[0m, in \u001b[0;36mFunction.__call__\u001b[0;34m(self, *args, **kwargs)\u001b[0m\n\u001b[1;32m   2493\u001b[0m \u001b[39mwith\u001b[39;00m \u001b[39mself\u001b[39m\u001b[39m.\u001b[39m_lock:\n\u001b[1;32m   2494\u001b[0m   (graph_function,\n\u001b[1;32m   2495\u001b[0m    filtered_flat_args) \u001b[39m=\u001b[39m \u001b[39mself\u001b[39m\u001b[39m.\u001b[39m_maybe_define_function(args, kwargs)\n\u001b[0;32m-> 2496\u001b[0m \u001b[39mreturn\u001b[39;00m graph_function\u001b[39m.\u001b[39;49m_call_flat(\n\u001b[1;32m   2497\u001b[0m     filtered_flat_args, captured_inputs\u001b[39m=\u001b[39;49mgraph_function\u001b[39m.\u001b[39;49mcaptured_inputs)\n",
      "File \u001b[0;32m~/anaconda3/envs/vision/lib/python3.10/site-packages/tensorflow/python/eager/function.py:1862\u001b[0m, in \u001b[0;36mConcreteFunction._call_flat\u001b[0;34m(self, args, captured_inputs, cancellation_manager)\u001b[0m\n\u001b[1;32m   1858\u001b[0m possible_gradient_type \u001b[39m=\u001b[39m gradients_util\u001b[39m.\u001b[39mPossibleTapeGradientTypes(args)\n\u001b[1;32m   1859\u001b[0m \u001b[39mif\u001b[39;00m (possible_gradient_type \u001b[39m==\u001b[39m gradients_util\u001b[39m.\u001b[39mPOSSIBLE_GRADIENT_TYPES_NONE\n\u001b[1;32m   1860\u001b[0m     \u001b[39mand\u001b[39;00m executing_eagerly):\n\u001b[1;32m   1861\u001b[0m   \u001b[39m# No tape is watching; skip to running the function.\u001b[39;00m\n\u001b[0;32m-> 1862\u001b[0m   \u001b[39mreturn\u001b[39;00m \u001b[39mself\u001b[39m\u001b[39m.\u001b[39m_build_call_outputs(\u001b[39mself\u001b[39;49m\u001b[39m.\u001b[39;49m_inference_function\u001b[39m.\u001b[39;49mcall(\n\u001b[1;32m   1863\u001b[0m       ctx, args, cancellation_manager\u001b[39m=\u001b[39;49mcancellation_manager))\n\u001b[1;32m   1864\u001b[0m forward_backward \u001b[39m=\u001b[39m \u001b[39mself\u001b[39m\u001b[39m.\u001b[39m_select_forward_and_backward_functions(\n\u001b[1;32m   1865\u001b[0m     args,\n\u001b[1;32m   1866\u001b[0m     possible_gradient_type,\n\u001b[1;32m   1867\u001b[0m     executing_eagerly)\n\u001b[1;32m   1868\u001b[0m forward_function, args_with_tangents \u001b[39m=\u001b[39m forward_backward\u001b[39m.\u001b[39mforward()\n",
      "File \u001b[0;32m~/anaconda3/envs/vision/lib/python3.10/site-packages/tensorflow/python/eager/function.py:499\u001b[0m, in \u001b[0;36m_EagerDefinedFunction.call\u001b[0;34m(self, ctx, args, cancellation_manager)\u001b[0m\n\u001b[1;32m    497\u001b[0m \u001b[39mwith\u001b[39;00m _InterpolateFunctionError(\u001b[39mself\u001b[39m):\n\u001b[1;32m    498\u001b[0m   \u001b[39mif\u001b[39;00m cancellation_manager \u001b[39mis\u001b[39;00m \u001b[39mNone\u001b[39;00m:\n\u001b[0;32m--> 499\u001b[0m     outputs \u001b[39m=\u001b[39m execute\u001b[39m.\u001b[39;49mexecute(\n\u001b[1;32m    500\u001b[0m         \u001b[39mstr\u001b[39;49m(\u001b[39mself\u001b[39;49m\u001b[39m.\u001b[39;49msignature\u001b[39m.\u001b[39;49mname),\n\u001b[1;32m    501\u001b[0m         num_outputs\u001b[39m=\u001b[39;49m\u001b[39mself\u001b[39;49m\u001b[39m.\u001b[39;49m_num_outputs,\n\u001b[1;32m    502\u001b[0m         inputs\u001b[39m=\u001b[39;49margs,\n\u001b[1;32m    503\u001b[0m         attrs\u001b[39m=\u001b[39;49mattrs,\n\u001b[1;32m    504\u001b[0m         ctx\u001b[39m=\u001b[39;49mctx)\n\u001b[1;32m    505\u001b[0m   \u001b[39melse\u001b[39;00m:\n\u001b[1;32m    506\u001b[0m     outputs \u001b[39m=\u001b[39m execute\u001b[39m.\u001b[39mexecute_with_cancellation(\n\u001b[1;32m    507\u001b[0m         \u001b[39mstr\u001b[39m(\u001b[39mself\u001b[39m\u001b[39m.\u001b[39msignature\u001b[39m.\u001b[39mname),\n\u001b[1;32m    508\u001b[0m         num_outputs\u001b[39m=\u001b[39m\u001b[39mself\u001b[39m\u001b[39m.\u001b[39m_num_outputs,\n\u001b[0;32m   (...)\u001b[0m\n\u001b[1;32m    511\u001b[0m         ctx\u001b[39m=\u001b[39mctx,\n\u001b[1;32m    512\u001b[0m         cancellation_manager\u001b[39m=\u001b[39mcancellation_manager)\n",
      "File \u001b[0;32m~/anaconda3/envs/vision/lib/python3.10/site-packages/tensorflow/python/eager/execute.py:54\u001b[0m, in \u001b[0;36mquick_execute\u001b[0;34m(op_name, num_outputs, inputs, attrs, ctx, name)\u001b[0m\n\u001b[1;32m     52\u001b[0m \u001b[39mtry\u001b[39;00m:\n\u001b[1;32m     53\u001b[0m   ctx\u001b[39m.\u001b[39mensure_initialized()\n\u001b[0;32m---> 54\u001b[0m   tensors \u001b[39m=\u001b[39m pywrap_tfe\u001b[39m.\u001b[39;49mTFE_Py_Execute(ctx\u001b[39m.\u001b[39;49m_handle, device_name, op_name,\n\u001b[1;32m     55\u001b[0m                                       inputs, attrs, num_outputs)\n\u001b[1;32m     56\u001b[0m \u001b[39mexcept\u001b[39;00m core\u001b[39m.\u001b[39m_NotOkStatusException \u001b[39mas\u001b[39;00m e:\n\u001b[1;32m     57\u001b[0m   \u001b[39mif\u001b[39;00m name \u001b[39mis\u001b[39;00m \u001b[39mnot\u001b[39;00m \u001b[39mNone\u001b[39;00m:\n",
      "\u001b[0;31mKeyboardInterrupt\u001b[0m: "
     ]
    }
   ],
   "source": [
    "\n",
    "\n",
    "for epoch in range(EPOCHS):\n",
    "  start = time.time()\n",
    "\n",
    "  train_loss.reset_states()\n",
    "  train_accuracy.reset_states()\n",
    "\n",
    "  # inp -> portuguese, tar -> english\n",
    "  for (batch, (inp, tar)) in enumerate(train_batches):\n",
    "    train_step(inp, tar)\n",
    "\n",
    "    if batch % 50 == 0:\n",
    "      print(f'Epoch {epoch + 1} Batch {batch} Loss {train_loss.result():.4f} Accuracy {train_accuracy.result():.4f}')\n",
    "\n",
    "  if (epoch + 1) % 5 == 0:\n",
    "    ckpt_save_path = ckpt_manager.save()\n",
    "    print(f'Saving checkpoint for epoch {epoch+1} at {ckpt_save_path}')\n",
    "\n",
    "  print(f'Epoch {epoch + 1} Loss {train_loss.result():.4f} Accuracy {train_accuracy.result():.4f}')\n",
    "\n",
    "  print(f'Time taken for 1 epoch: {time.time() - start:.2f} secs\\n')\n",
    "\n"
   ]
  },
  {
   "cell_type": "code",
   "execution_count": null,
   "id": "e49630df",
   "metadata": {},
   "outputs": [],
   "source": []
  }
 ],
 "metadata": {
  "kernelspec": {
   "display_name": "Python 3.10.4 ('vision')",
   "language": "python",
   "name": "python3"
  },
  "language_info": {
   "codemirror_mode": {
    "name": "ipython",
    "version": 3
   },
   "file_extension": ".py",
   "mimetype": "text/x-python",
   "name": "python",
   "nbconvert_exporter": "python",
   "pygments_lexer": "ipython3",
   "version": "3.10.4"
  },
  "vscode": {
   "interpreter": {
    "hash": "c93af7433719cf61beb232a937287b5f6ac44c5a03632b389ba7312dbdbeed85"
   }
  }
 },
 "nbformat": 4,
 "nbformat_minor": 5
}
